{
 "cells": [
  {
   "metadata": {},
   "cell_type": "markdown",
   "source": [
    "### Indexing on ndarrays\n",
    "\n",
    "`ndarrays` can be indexed using the standard Python `x[obj]` syntax, where x is the array and obj the selection. There are different kinds of indexing available depending on obj: basic indexing, advanced indexing and field access.\n",
    "\n",
    "> [!NOTE]\n",
    "> Note that in Python, `x[(exp1, exp2, ..., expN)]` is equivalent to `x[exp1, exp2, ..., expN]`; the latter is just syntactic sugar for the former.\n",
    "\n",
    "### Basic indexing\n",
    "\n",
    "#### Single element indexing\n",
    "Single element indexing works exactly like that for other standard Python sequences\n"
   ],
   "id": "80b230926faea727"
  },
  {
   "metadata": {
    "ExecuteTime": {
     "end_time": "2025-10-09T15:42:36.395638Z",
     "start_time": "2025-10-09T15:42:36.392435Z"
    }
   },
   "cell_type": "code",
   "source": [
    "import numpy as np\n",
    "x = np.arange(10)\n",
    "print(x[2])\n",
    "print(x[-2])"
   ],
   "id": "4a5b9f3a110fecf1",
   "outputs": [
    {
     "name": "stdout",
     "output_type": "stream",
     "text": [
      "2\n",
      "8\n"
     ]
    }
   ],
   "execution_count": 9
  },
  {
   "metadata": {},
   "cell_type": "markdown",
   "source": "It is not necessary to separate each dimension’s index into its own set of square brackets.",
   "id": "47d5e0bac406ce57"
  },
  {
   "metadata": {
    "ExecuteTime": {
     "end_time": "2025-10-09T15:42:36.417337Z",
     "start_time": "2025-10-09T15:42:36.415219Z"
    }
   },
   "cell_type": "code",
   "source": [
    "x.shape = (2, 5) # now x is 2-d\n",
    "print(x[1, 3])\n",
    "print(x[1, -1])"
   ],
   "id": "6b0afc83b255f700",
   "outputs": [
    {
     "name": "stdout",
     "output_type": "stream",
     "text": [
      "8\n",
      "9\n"
     ]
    }
   ],
   "execution_count": 10
  },
  {
   "metadata": {},
   "cell_type": "markdown",
   "source": [
    "> [!NOTE]\n",
    "> Note that if one indexes a multidimensional array with fewer indices than dimensions, one gets a subdimensional array. For example:"
   ],
   "id": "94a42fcad1aa4029"
  },
  {
   "metadata": {
    "ExecuteTime": {
     "end_time": "2025-10-09T15:42:36.428944Z",
     "start_time": "2025-10-09T15:42:36.427153Z"
    }
   },
   "cell_type": "code",
   "source": "print(x[0])",
   "id": "dd40d1c66364b7be",
   "outputs": [
    {
     "name": "stdout",
     "output_type": "stream",
     "text": [
      "[0 1 2 3 4]\n"
     ]
    }
   ],
   "execution_count": 11
  },
  {
   "metadata": {},
   "cell_type": "markdown",
   "source": "That is, each index specified selects the array corresponding to the rest of the dimensions selected. In the above example, choosing 0 means that the remaining dimension of length 5 is being left unspecified, and that what is returned is an array of that dimensionality and size.",
   "id": "bcf6479e0faa0491"
  },
  {
   "metadata": {
    "ExecuteTime": {
     "end_time": "2025-10-10T15:51:55.835629Z",
     "start_time": "2025-10-10T15:51:55.832366Z"
    }
   },
   "cell_type": "code",
   "source": [
    "c = x[0][2]\n",
    "print(c)\n",
    "is_equal = x[0, 2] == x[0][2]\n",
    "print(is_equal)"
   ],
   "id": "f9b04c6df912afcf",
   "outputs": [
    {
     "name": "stdout",
     "output_type": "stream",
     "text": [
      "0.9355409765922167\n",
      "True\n"
     ]
    }
   ],
   "execution_count": 15
  },
  {
   "metadata": {},
   "cell_type": "markdown",
   "source": "### Slicing and striding",
   "id": "ec9b6cf6b8065303"
  },
  {
   "metadata": {},
   "cell_type": "markdown",
   "source": [
    "Basic slicing extends Python’s basic concept of slicing to N dimensions. Basic slicing occurs when obj is a slice object (constructed by `start:stop:step` notation inside of brackets), an integer, or a tuple of slice objects and integers.\n",
    "The basic slice syntax is `i:j:k` where i is the starting index, j is the stopping index, and k is the step (*k* != 0)."
   ],
   "id": "ed3ad897d67721e"
  },
  {
   "metadata": {
    "ExecuteTime": {
     "end_time": "2025-10-10T15:57:20.214666Z",
     "start_time": "2025-10-10T15:57:20.211435Z"
    }
   },
   "cell_type": "code",
   "source": [
    "x = np.array([0, 1, 2, 3, 4, 5, 6, 7, 8, 9])\n",
    "print(x)\n",
    "print(x[1:7:2])"
   ],
   "id": "99aa97e46b886a4b",
   "outputs": [
    {
     "name": "stdout",
     "output_type": "stream",
     "text": [
      "[0 1 2 3 4 5 6 7 8 9]\n",
      "[1 3 5]\n"
     ]
    }
   ],
   "execution_count": 19
  },
  {
   "metadata": {
    "ExecuteTime": {
     "end_time": "2025-10-10T15:58:06.768855Z",
     "start_time": "2025-10-10T15:58:06.767142Z"
    }
   },
   "cell_type": "code",
   "source": [
    "print(x[-2: 10])\n",
    "print(x[-3:3:-1])"
   ],
   "id": "786f543cb20ad2bd",
   "outputs": [
    {
     "name": "stdout",
     "output_type": "stream",
     "text": [
      "[8 9]\n",
      "[7 6 5 4]\n"
     ]
    }
   ],
   "execution_count": 20
  },
  {
   "metadata": {},
   "cell_type": "markdown",
   "source": "Note that `::` is the same as `:` and means select all indices along this axis. From the above example:",
   "id": "191e933329a01916"
  },
  {
   "metadata": {
    "ExecuteTime": {
     "end_time": "2025-10-10T15:59:12.610227Z",
     "start_time": "2025-10-10T15:59:12.608153Z"
    }
   },
   "cell_type": "code",
   "source": "print(x[5:])",
   "id": "c45f0ed5cf87a747",
   "outputs": [
    {
     "name": "stdout",
     "output_type": "stream",
     "text": [
      "[5 6 7 8 9]\n"
     ]
    }
   ],
   "execution_count": 21
  },
  {
   "metadata": {
    "ExecuteTime": {
     "end_time": "2025-10-10T16:00:13.012638Z",
     "start_time": "2025-10-10T16:00:13.009504Z"
    }
   },
   "cell_type": "code",
   "source": [
    "x = np.array([[[1],[2],[3]], [[4],[5],[6]]])\n",
    "print(x)\n",
    "print(x.shape)\n",
    "# 2d array, 3 rows, 1 column (2, 3, 1)\n",
    "print(x[1:2])"
   ],
   "id": "12973c2361bf7daa",
   "outputs": [
    {
     "name": "stdout",
     "output_type": "stream",
     "text": [
      "[[[1]\n",
      "  [2]\n",
      "  [3]]\n",
      "\n",
      " [[4]\n",
      "  [5]\n",
      "  [6]]]\n",
      "(2, 3, 1)\n",
      "[[[4]\n",
      "  [5]\n",
      "  [6]]]\n"
     ]
    }
   ],
   "execution_count": 24
  },
  {
   "metadata": {},
   "cell_type": "markdown",
   "source": "### Dimensional indexing tools",
   "id": "eadf8624a18f9484"
  },
  {
   "metadata": {},
   "cell_type": "markdown",
   "source": "`Ellipsis` expands to the number of `:` objects needed for the selection tuple to index all dimensions. In most cases, this means that the length of the expanded selection tuple is `x.ndim`.",
   "id": "4b61639810d3e180"
  },
  {
   "metadata": {
    "ExecuteTime": {
     "end_time": "2025-10-10T16:03:52.928361Z",
     "start_time": "2025-10-10T16:03:52.925009Z"
    }
   },
   "cell_type": "code",
   "source": "print(x[..., 0])",
   "id": "795d0a44a7d10e54",
   "outputs": [
    {
     "name": "stdout",
     "output_type": "stream",
     "text": [
      "[[1 2 3]\n",
      " [4 5 6]]\n"
     ]
    }
   ],
   "execution_count": 25
  },
  {
   "metadata": {},
   "cell_type": "markdown",
   "source": "This is equivalent to",
   "id": "a89fdcf608472a7b"
  },
  {
   "metadata": {
    "ExecuteTime": {
     "end_time": "2025-10-10T16:04:44.675460Z",
     "start_time": "2025-10-10T16:04:44.673377Z"
    }
   },
   "cell_type": "code",
   "source": "print(x[:, :, 0])",
   "id": "8defccee95bfa38b",
   "outputs": [
    {
     "name": "stdout",
     "output_type": "stream",
     "text": [
      "[[1 2 3]\n",
      " [4 5 6]]\n"
     ]
    }
   ],
   "execution_count": 26
  },
  {
   "metadata": {},
   "cell_type": "markdown",
   "source": "Each `newaxis` object in the selection tuple serves to expand the dimensions of the resulting selection by one unit-length dimension. The added dimension is the position of the `newaxis` object in the selection tuple. `newaxis` is an alias for None, and None can be used in place of this with the same result",
   "id": "70685f8131899de7"
  },
  {
   "metadata": {
    "ExecuteTime": {
     "end_time": "2025-10-10T16:06:08.485158Z",
     "start_time": "2025-10-10T16:06:08.482347Z"
    }
   },
   "cell_type": "code",
   "source": [
    "print(x[:, np.newaxis, :, :].shape)\n",
    "print(x[:, None, :, :].shape)"
   ],
   "id": "8823729332c9311f",
   "outputs": [
    {
     "name": "stdout",
     "output_type": "stream",
     "text": [
      "(2, 1, 3, 1)\n",
      "(2, 1, 3, 1)\n"
     ]
    }
   ],
   "execution_count": 28
  },
  {
   "metadata": {},
   "cell_type": "markdown",
   "source": "This can be handy to combine two arrays in a way that otherwise would require explicit reshaping operations",
   "id": "5805fce0d002e2bb"
  },
  {
   "metadata": {
    "ExecuteTime": {
     "end_time": "2025-10-10T16:07:29.985702Z",
     "start_time": "2025-10-10T16:07:29.983490Z"
    }
   },
   "cell_type": "code",
   "source": [
    "x = np.arange(5)\n",
    "print(x)\n",
    "print(\"-\" * 20)\n",
    "print(x[:, np.newaxis] + x[np.newaxis, :])"
   ],
   "id": "af5cdd868da2be4a",
   "outputs": [
    {
     "name": "stdout",
     "output_type": "stream",
     "text": [
      "[0 1 2 3 4]\n",
      "--------------------\n",
      "[[0 1 2 3 4]\n",
      " [1 2 3 4 5]\n",
      " [2 3 4 5 6]\n",
      " [3 4 5 6 7]\n",
      " [4 5 6 7 8]]\n"
     ]
    }
   ],
   "execution_count": 30
  },
  {
   "metadata": {},
   "cell_type": "markdown",
   "source": [
    "### Advanced indexing\n",
    "Advanced indexing is triggered when the selection object, obj, is a non-tuple sequence object, an `ndarray` (of data type integer or bool), or a tuple with at least one sequence object or ndarray (of data type integer or bool). There are two types of advanced indexing: integer and Boolean."
   ],
   "id": "ba863bf6e3abd72b"
  },
  {
   "metadata": {},
   "cell_type": "markdown",
   "source": [
    "> [! WARNING]\n",
    "> The definition of advanced indexing means that `x[(1, 2, 3),]` is fundamentally different than `x[(1, 2, 3)]`. The latter is equivalent to `x[1, 2, 3]` which will trigger basic selection while the former will trigger advanced indexing. Be sure to understand why this occurs."
   ],
   "id": "599f6d73b9f9b7aa"
  },
  {
   "metadata": {},
   "cell_type": "markdown",
   "source": [
    "### Integer array indexing\n",
    "Integer array indexing allows selection of arbitrary items in the array based on their N-dimensional index"
   ],
   "id": "fd37b69cc516ac71"
  },
  {
   "metadata": {
    "ExecuteTime": {
     "end_time": "2025-10-10T16:14:14.396574Z",
     "start_time": "2025-10-10T16:14:14.392757Z"
    }
   },
   "cell_type": "code",
   "outputs": [
    {
     "name": "stdout",
     "output_type": "stream",
     "text": [
      "[10  9  8  7  6  5  4  3  2]\n",
      "--------------------\n",
      "[7 7 9 2]\n",
      "--------------------\n",
      "[7 7 4 2]\n"
     ]
    }
   ],
   "execution_count": 32,
   "source": [
    "x = np.arange(10, 1, -1)\n",
    "print(x)\n",
    "print(\"-\" * 20)\n",
    "print(x[np.array([3, 3, 1, 8])])\n",
    "print(\"-\" * 20)\n",
    "print(x[np.array([3, 3, -3, 8])])"
   ],
   "id": "5adcf63c309b2737"
  },
  {
   "metadata": {},
   "cell_type": "markdown",
   "source": "If the index values are out of bounds then an _`IndexError`_ is thrown",
   "id": "ea42d29e52b186ac"
  },
  {
   "metadata": {
    "ExecuteTime": {
     "end_time": "2025-10-10T16:12:21.423484Z",
     "start_time": "2025-10-10T16:12:21.419247Z"
    }
   },
   "cell_type": "code",
   "outputs": [
    {
     "name": "stdout",
     "output_type": "stream",
     "text": [
      "[[3 4]\n",
      " [5 6]]\n"
     ]
    }
   ],
   "execution_count": 31,
   "source": [
    "x = np.array([[1, 2], [3, 4], [5, 6]])\n",
    "print(x[np.array([1, -1])])"
   ],
   "id": "e0a8882c64fe1444"
  },
  {
   "metadata": {},
   "cell_type": "markdown",
   "source": "Indexing with multidimensional index arrays tend to be more unusual uses, but they are permitted, and they are useful for some problems. We’ll start with the simplest multidimensional case:",
   "id": "964308b4ce433945"
  },
  {
   "metadata": {
    "ExecuteTime": {
     "end_time": "2025-10-10T16:23:38.490812Z",
     "start_time": "2025-10-10T16:23:38.486229Z"
    }
   },
   "cell_type": "code",
   "source": [
    "a = np.arange(6).reshape((3, 2))\n",
    "print(a)\n",
    "# As you can see, it created a 3 x 2 array (Meaning a 3 row, 2 column,array)\n",
    "print(\"-\" * 20)\n",
    "print(np.reshape(a, (2, 3)))"
   ],
   "id": "15228e1ffa595438",
   "outputs": [
    {
     "name": "stdout",
     "output_type": "stream",
     "text": [
      "[[0 1]\n",
      " [2 3]\n",
      " [4 5]]\n",
      "--------------------\n",
      "[[0 1 2]\n",
      " [3 4 5]]\n"
     ]
    }
   ],
   "execution_count": 35
  },
  {
   "metadata": {},
   "cell_type": "markdown",
   "source": "The reshape property, allows you to share the array into another order as shown in the example above.",
   "id": "3156c112480eb1bb"
  },
  {
   "metadata": {
    "ExecuteTime": {
     "end_time": "2025-10-10T16:17:46.995456Z",
     "start_time": "2025-10-10T16:17:46.992483Z"
    }
   },
   "cell_type": "code",
   "outputs": [
    {
     "name": "stdout",
     "output_type": "stream",
     "text": [
      "[[ 0  1  2  3  4  5  6]\n",
      " [ 7  8  9 10 11 12 13]\n",
      " [14 15 16 17 18 19 20]\n",
      " [21 22 23 24 25 26 27]\n",
      " [28 29 30 31 32 33 34]]\n",
      "--------------------\n",
      "[ 0 15 30]\n"
     ]
    }
   ],
   "execution_count": 33,
   "source": [
    "y = np.arange(35).reshape(5, 7)\n",
    "print(y)\n",
    "print(\"-\" * 20)\n",
    "print(y[np.array([0, 2, 4]), np.array([0, 1, 2])])"
   ],
   "id": "dff6a1a8d61187bd"
  },
  {
   "metadata": {},
   "cell_type": "markdown",
   "source": [
    "If the index arrays do not have the same shape, there is an attempt to broadcast them to the same shape. If they cannot be broadcast to the same shape, an exception is raised:\n",
    "\n"
   ],
   "id": "436965eb8cd3fc77"
  },
  {
   "metadata": {
    "ExecuteTime": {
     "end_time": "2025-10-13T14:15:29.716211Z",
     "start_time": "2025-10-13T14:15:29.704848Z"
    }
   },
   "cell_type": "code",
   "outputs": [
    {
     "ename": "IndexError",
     "evalue": "shape mismatch: indexing arrays could not be broadcast together with shapes (3,) (2,) ",
     "output_type": "error",
     "traceback": [
      "\u001B[31m---------------------------------------------------------------------------\u001B[39m",
      "\u001B[31mIndexError\u001B[39m                                Traceback (most recent call last)",
      "\u001B[36mCell\u001B[39m\u001B[36m \u001B[39m\u001B[32mIn[40]\u001B[39m\u001B[32m, line 1\u001B[39m\n\u001B[32m----> \u001B[39m\u001B[32m1\u001B[39m \u001B[38;5;28mprint\u001B[39m(\u001B[43my\u001B[49m\u001B[43m[\u001B[49m\u001B[43mnp\u001B[49m\u001B[43m.\u001B[49m\u001B[43marray\u001B[49m\u001B[43m(\u001B[49m\u001B[43m[\u001B[49m\u001B[32;43m0\u001B[39;49m\u001B[43m,\u001B[49m\u001B[43m \u001B[49m\u001B[32;43m2\u001B[39;49m\u001B[43m,\u001B[49m\u001B[43m \u001B[49m\u001B[32;43m4\u001B[39;49m\u001B[43m]\u001B[49m\u001B[43m)\u001B[49m\u001B[43m,\u001B[49m\u001B[43m \u001B[49m\u001B[43mnp\u001B[49m\u001B[43m.\u001B[49m\u001B[43marray\u001B[49m\u001B[43m(\u001B[49m\u001B[43m[\u001B[49m\u001B[32;43m0\u001B[39;49m\u001B[43m,\u001B[49m\u001B[43m \u001B[49m\u001B[32;43m1\u001B[39;49m\u001B[43m]\u001B[49m\u001B[43m)\u001B[49m\u001B[43m]\u001B[49m)\n",
      "\u001B[31mIndexError\u001B[39m: shape mismatch: indexing arrays could not be broadcast together with shapes (3,) (2,) "
     ]
    }
   ],
   "execution_count": 40,
   "source": "print(y[np.array([0, 2, 4]), np.array([0, 1])])",
   "id": "5fd13d503154aea3"
  },
  {
   "metadata": {},
   "cell_type": "markdown",
   "source": "The broadcasting mechanism permits index arrays to be combined with scalars for other indices. The effect is that the scalar value is used for all the corresponding values of the index arrays:",
   "id": "b8caf008e58402c4"
  },
  {
   "metadata": {
    "ExecuteTime": {
     "end_time": "2025-10-13T14:16:58.899173Z",
     "start_time": "2025-10-13T14:16:58.885993Z"
    }
   },
   "cell_type": "code",
   "source": "print(y[np.array([0, 2, 4])])",
   "id": "a5d5135bcf84f016",
   "outputs": [
    {
     "ename": "IndexError",
     "evalue": "index 2 is out of bounds for axis 0 with size 1",
     "output_type": "error",
     "traceback": [
      "\u001B[31m---------------------------------------------------------------------------\u001B[39m",
      "\u001B[31mIndexError\u001B[39m                                Traceback (most recent call last)",
      "\u001B[36mCell\u001B[39m\u001B[36m \u001B[39m\u001B[32mIn[42]\u001B[39m\u001B[32m, line 1\u001B[39m\n\u001B[32m----> \u001B[39m\u001B[32m1\u001B[39m \u001B[38;5;28mprint\u001B[39m(\u001B[43my\u001B[49m\u001B[43m[\u001B[49m\u001B[43mnp\u001B[49m\u001B[43m.\u001B[49m\u001B[43marray\u001B[49m\u001B[43m(\u001B[49m\u001B[43m[\u001B[49m\u001B[32;43m0\u001B[39;49m\u001B[43m,\u001B[49m\u001B[43m \u001B[49m\u001B[32;43m2\u001B[39;49m\u001B[43m,\u001B[49m\u001B[43m \u001B[49m\u001B[32;43m4\u001B[39;49m\u001B[43m]\u001B[49m\u001B[43m)\u001B[49m\u001B[43m]\u001B[49m)\n",
      "\u001B[31mIndexError\u001B[39m: index 2 is out of bounds for axis 0 with size 1"
     ]
    }
   ],
   "execution_count": 42
  },
  {
   "metadata": {},
   "cell_type": "markdown",
   "source": [
    "### Example\n",
    "From each row, a specific element should be selected. The row index is just `[0, 1, 2]` and the column index specifies the element to choose for the corresponding row, here `[0, 1, 0]`. Using both together the task can be solved using advanced indexing:"
   ],
   "id": "b367b5fefcf5a894"
  },
  {
   "metadata": {
    "ExecuteTime": {
     "end_time": "2025-10-13T14:20:50.455430Z",
     "start_time": "2025-10-13T14:20:50.452651Z"
    }
   },
   "cell_type": "code",
   "source": [
    "x = np.array([[1, 2], [3, 4], [5, 6]])\n",
    "print(x[[0, 1, 2], [0, 1, 0]])"
   ],
   "id": "553703edb1283219",
   "outputs": [
    {
     "name": "stdout",
     "output_type": "stream",
     "text": [
      "[1 4 5]\n"
     ]
    }
   ],
   "execution_count": 46
  },
  {
   "metadata": {},
   "cell_type": "markdown",
   "source": [
    "### Example 2\n",
    "rom a 4x3 array the corner elements should be selected using advanced indexing. Thus all elements for which the column is one of `[0, 2]` and the row is one of `[0, 3]` need to be selected. To use advanced indexing one needs to select all elements explicitly. Using the method explained previously one could write:"
   ],
   "id": "be30d60201b634c7"
  },
  {
   "metadata": {
    "ExecuteTime": {
     "end_time": "2025-10-13T14:22:46.939595Z",
     "start_time": "2025-10-13T14:22:46.937440Z"
    }
   },
   "cell_type": "code",
   "source": [
    "x = np.array([[ 0,  1,  2],\n",
    "              [ 3,  4,  5],\n",
    "              [ 6,  7,  8],\n",
    "              [ 9, 10, 11]])\n",
    "rows = np.array([[0, 0],\n",
    "                 [3, 3]], dtype=np.intp)\n",
    "columns = np.array([[0, 2],\n",
    "                    [0, 2]], dtype=np.intp)\n",
    "print(x[rows, columns])"
   ],
   "id": "6a378f39dbe2f50d",
   "outputs": [
    {
     "name": "stdout",
     "output_type": "stream",
     "text": [
      "[[ 0  2]\n",
      " [ 9 11]]\n"
     ]
    }
   ],
   "execution_count": 47
  },
  {
   "metadata": {},
   "cell_type": "markdown",
   "source": [
    "### Boolean array indexing\n",
    "This advanced indexing occurs when obj is an array object of Boolean type, such as may be returned from comparison operators. A single boolean index array is practically identical to `x[obj.nonzero()]` where, as described above, `obj.nonzero()` returns a tuple (of length `obj.ndim`) of integer index arrays showing the True elements of _obj_."
   ],
   "id": "f27e89d13b5c2c8a"
  },
  {
   "metadata": {
    "ExecuteTime": {
     "end_time": "2025-10-13T14:24:25.271224Z",
     "start_time": "2025-10-13T14:24:25.268717Z"
    }
   },
   "cell_type": "code",
   "source": [
    "x = np.array([[1., 2.], [np.nan, 3.], [np.nan, np.nan]])\n",
    "print(x[~np.isnan(x)])"
   ],
   "id": "c2235048f1bf632a",
   "outputs": [
    {
     "name": "stdout",
     "output_type": "stream",
     "text": [
      "[1. 2. 3.]\n"
     ]
    }
   ],
   "execution_count": 48
  },
  {
   "metadata": {},
   "cell_type": "markdown",
   "source": "Or wish to add a constant to all negative elements:",
   "id": "861aa9f7e381565b"
  },
  {
   "metadata": {
    "ExecuteTime": {
     "end_time": "2025-10-13T14:24:53.754406Z",
     "start_time": "2025-10-13T14:24:53.752435Z"
    }
   },
   "cell_type": "code",
   "source": [
    "x = np.array([1., -1., -2., 3])\n",
    "x[x < 0] += 20\n",
    "print(x)"
   ],
   "id": "2a200cf09f6b529c",
   "outputs": [
    {
     "name": "stdout",
     "output_type": "stream",
     "text": [
      "[ 1. 19. 18.  3.]\n"
     ]
    }
   ],
   "execution_count": 49
  },
  {
   "metadata": {},
   "cell_type": "markdown",
   "source": [
    "### Combining advanced and basic indexing\n",
    "When there is at least one slice (`:`), ellipsis (`...`) or `newaxis` in the index (or the array has more dimensions than there are advanced indices), then the behaviour can be more complicated. It is like concatenating the indexing result for each advanced index element.\n"
   ],
   "id": "12e43af1807f6c3f"
  },
  {
   "metadata": {
    "ExecuteTime": {
     "end_time": "2025-10-13T14:25:53.682879Z",
     "start_time": "2025-10-13T14:25:53.680482Z"
    }
   },
   "cell_type": "code",
   "source": [
    "y = np.arange(35).reshape(5,7)\n",
    "print(y[np.array([0, 2, 4]), 1:3])"
   ],
   "id": "7ca765ac97744a17",
   "outputs": [
    {
     "name": "stdout",
     "output_type": "stream",
     "text": [
      "[[ 1  2]\n",
      " [15 16]\n",
      " [29 30]]\n"
     ]
    }
   ],
   "execution_count": 50
  },
  {
   "metadata": {},
   "cell_type": "markdown",
   "source": "In effect, the slice and index array operation are independent. The slice operation extracts columns with index 1 and 2, (i.e. the 2nd and 3rd columns), followed by the index array operation which extracts rows with index 0, 2 and 4 (i.e the first, third and fifth rows). This is equivalent to:",
   "id": "ede7eba57a0a4b50"
  },
  {
   "metadata": {
    "ExecuteTime": {
     "end_time": "2025-10-13T14:27:47.146200Z",
     "start_time": "2025-10-13T14:27:47.143907Z"
    }
   },
   "cell_type": "code",
   "source": "print(y[:, 1:3][np.array([0, 2, 4]), :])",
   "id": "67bea4c5ff684070",
   "outputs": [
    {
     "name": "stdout",
     "output_type": "stream",
     "text": [
      "[[ 1  2]\n",
      " [15 16]\n",
      " [29 30]]\n"
     ]
    }
   ],
   "execution_count": 51
  },
  {
   "metadata": {},
   "cell_type": "markdown",
   "source": "A single advanced index can, for example, replace a slice and the result array will be the same. However, it is a copy and may have a different memory layout. A slice is preferable when it is possible. For example:",
   "id": "5e285c4ca2c21a7"
  },
  {
   "metadata": {
    "ExecuteTime": {
     "end_time": "2025-10-13T14:30:03.873761Z",
     "start_time": "2025-10-13T14:30:03.871787Z"
    }
   },
   "cell_type": "code",
   "source": [
    "x = np.array([[ 0,  1,  2],\n",
    "              [ 3,  4,  5],\n",
    "              [ 6,  7,  8],\n",
    "              [ 9, 10, 11]])\n",
    "# row, column\n",
    "print(x[1:2, 1:3])"
   ],
   "id": "1f1e2e4dc014594b",
   "outputs": [
    {
     "name": "stdout",
     "output_type": "stream",
     "text": [
      "[[4 5]]\n"
     ]
    }
   ],
   "execution_count": 56
  },
  {
   "metadata": {},
   "cell_type": "markdown",
   "source": [
    "### Field access\n",
    "If the `ndarray` object is a structured array the fields of the array can be accessed by indexing the array with strings, dictionary-like.\n",
    "Indexing `x['field-name']` returns a new view to the array, which is of the same shape as x (except when the field is a sub-array) but of data type `x.dtype['field-name']` and contains only the part of the data in the specified field. Also, record array scalars can be “indexed” this way."
   ],
   "id": "f9376072316e3bdc"
  },
  {
   "metadata": {},
   "cell_type": "markdown",
   "source": [
    "### Flat iterator indexing\n",
    "`x.flat` returns an iterator that will iterate over the entire array (in C-contiguous style with the last index varying the fastest). This iterator object can also be indexed using basic slicing or advanced indexing as long as the selection object is not a tuple. This should be clear from the fact that `x.flat` is a 1-dimensional view.\n",
    "\n",
    "### Assigning values to indexed arrays\n",
    "As mentioned, one can select a subset of an array to assign to using a single index, slices, and index and mask arrays. The value being assigned to the indexed array must be shape consistent (the same shape or broadcastable to the shape the index produces)."
   ],
   "id": "1e28afbf26a9c455"
  },
  {
   "metadata": {
    "ExecuteTime": {
     "end_time": "2025-10-13T14:32:51.415566Z",
     "start_time": "2025-10-13T14:32:51.409105Z"
    }
   },
   "cell_type": "code",
   "source": [
    "x = np.arange(10)\n",
    "x[2:7] = 1\n",
    "print(x)"
   ],
   "id": "2026e1ed583fddbf",
   "outputs": [
    {
     "name": "stdout",
     "output_type": "stream",
     "text": [
      "[0 1 1 1 1 1 1 7 8 9]\n"
     ]
    }
   ],
   "execution_count": 57
  },
  {
   "metadata": {},
   "cell_type": "markdown",
   "source": "or an array of the right size:",
   "id": "72e8b8320e96662c"
  },
  {
   "metadata": {
    "ExecuteTime": {
     "end_time": "2025-10-13T14:33:23.380319Z",
     "start_time": "2025-10-13T14:33:23.377912Z"
    }
   },
   "cell_type": "code",
   "source": [
    "x[2:7] = np.arange(5)\n",
    "print(x)"
   ],
   "id": "9ea155bf9a6c751d",
   "outputs": [
    {
     "name": "stdout",
     "output_type": "stream",
     "text": [
      "[0 1 0 1 2 3 4 7 8 9]\n"
     ]
    }
   ],
   "execution_count": 58
  },
  {
   "metadata": {},
   "cell_type": "markdown",
   "source": [
    "### Dealing with variable numbers of indices within programs\n",
    "The indexing syntax is very powerful but limiting when dealing with a variable number of indices. For example, if you want to write a function that can handle arguments with various numbers of dimensions without having to write special case code for each number of possible dimensions, how can that be done?\n"
   ],
   "id": "a22dab00079d6ca9"
  },
  {
   "metadata": {
    "ExecuteTime": {
     "end_time": "2025-10-13T14:34:49.209059Z",
     "start_time": "2025-10-13T14:34:49.206065Z"
    }
   },
   "cell_type": "code",
   "source": [
    "z = np.arange(81).reshape(3, 3, 3, 3)\n",
    "indices = (1, 1, 1, 1)\n",
    "print(z[indices])"
   ],
   "id": "e0359de5586057a8",
   "outputs": [
    {
     "name": "stdout",
     "output_type": "stream",
     "text": [
      "40\n"
     ]
    }
   ],
   "execution_count": 59
  },
  {
   "metadata": {},
   "cell_type": "markdown",
   "source": [
    "So one can use code to construct tuples of any number of indices and then use these within an index.\n",
    "\n",
    "Slices can be specified within programs by using the slice() function in Python. For example"
   ],
   "id": "46f46291d68fca7f"
  },
  {
   "metadata": {
    "ExecuteTime": {
     "end_time": "2025-10-13T14:35:19.046816Z",
     "start_time": "2025-10-13T14:35:19.044839Z"
    }
   },
   "cell_type": "code",
   "source": [
    "indices = (1, 1, 1, slice(0, 2))  # same as [1, 1, 1, 0:2]\n",
    "print(z[indices])"
   ],
   "id": "51543c7bf54f7036",
   "outputs": [
    {
     "name": "stdout",
     "output_type": "stream",
     "text": [
      "[39 40]\n"
     ]
    }
   ],
   "execution_count": 60
  },
  {
   "metadata": {},
   "cell_type": "markdown",
   "source": "Likewise, ellipsis can be specified by code by using the Ellipsis object:",
   "id": "a0b056f8acd3bb14"
  },
  {
   "metadata": {
    "ExecuteTime": {
     "end_time": "2025-10-13T14:36:37.865474Z",
     "start_time": "2025-10-13T14:36:37.862790Z"
    }
   },
   "cell_type": "code",
   "source": [
    "indices = (1, Ellipsis, 1)  # same as [1, ..., 1]\n",
    "print(z[indices])\n",
    "print(\"-\" * 20)\n",
    "# performing the below returns a single value\n",
    "print(z[(1, 1, 1, 1)])"
   ],
   "id": "ba542b25a9bd54ed",
   "outputs": [
    {
     "name": "stdout",
     "output_type": "stream",
     "text": [
      "[[28 31 34]\n",
      " [37 40 43]\n",
      " [46 49 52]]\n",
      "--------------------\n",
      "40\n"
     ]
    }
   ],
   "execution_count": 63
  },
  {
   "metadata": {},
   "cell_type": "markdown",
   "source": [
    "### Additional notes\n",
    "- The native NumPy indexing type is `intp` and may differ from the default integer array type. intp is the smallest data type sufficient to safely index any array; for advanced indexing it may be faster than other types\n",
    "- For advanced assignments, there is in general no guarantee for the iteration order. This means that if an element is set more than once, it is not possible to predict the final result.\n",
    "\n",
    "An empty (tuple) index is a full scalar index into a zero-dimensional array. `x[()]` returns a scalar if x is zero-dimensional and a view otherwise. On the other hand, `x[...]` always returns a view."
   ],
   "id": "40f407eb8ab3e14b"
  }
 ],
 "metadata": {
  "kernelspec": {
   "display_name": "Python 3",
   "language": "python",
   "name": "python3"
  },
  "language_info": {
   "codemirror_mode": {
    "name": "ipython",
    "version": 2
   },
   "file_extension": ".py",
   "mimetype": "text/x-python",
   "name": "python",
   "nbconvert_exporter": "python",
   "pygments_lexer": "ipython2",
   "version": "2.7.6"
  }
 },
 "nbformat": 4,
 "nbformat_minor": 5
}
