{
 "cells": [
  {
   "metadata": {},
   "cell_type": "markdown",
   "source": [
    "### Indexing on ndarrays\n",
    "\n",
    "`ndarrays` can be indexed using the standard Python `x[obj]` syntax, where x is the array and obj the selection. There are different kinds of indexing available depending on obj: basic indexing, advanced indexing and field access.\n",
    "\n",
    "> [!NOTE]\n",
    "> Note that in Python, `x[(exp1, exp2, ..., expN)]` is equivalent to `x[exp1, exp2, ..., expN]`; the latter is just syntactic sugar for the former.\n",
    "\n",
    "### Basic indexing\n",
    "\n",
    "#### Single element indexing\n",
    "Single element indexing works exactly like that for other standard Python sequences\n"
   ],
   "id": "80b230926faea727"
  },
  {
   "metadata": {
    "ExecuteTime": {
     "end_time": "2025-10-09T15:42:36.395638Z",
     "start_time": "2025-10-09T15:42:36.392435Z"
    }
   },
   "cell_type": "code",
   "source": [
    "import numpy as np\n",
    "x = np.arange(10)\n",
    "print(x[2])\n",
    "print(x[-2])"
   ],
   "id": "4a5b9f3a110fecf1",
   "outputs": [
    {
     "name": "stdout",
     "output_type": "stream",
     "text": [
      "2\n",
      "8\n"
     ]
    }
   ],
   "execution_count": 9
  },
  {
   "metadata": {},
   "cell_type": "markdown",
   "source": "It is not necessary to separate each dimension’s index into its own set of square brackets.",
   "id": "47d5e0bac406ce57"
  },
  {
   "metadata": {
    "ExecuteTime": {
     "end_time": "2025-10-09T15:42:36.417337Z",
     "start_time": "2025-10-09T15:42:36.415219Z"
    }
   },
   "cell_type": "code",
   "source": [
    "x.shape = (2, 5) # now x is 2-d\n",
    "print(x[1, 3])\n",
    "print(x[1, -1])"
   ],
   "id": "6b0afc83b255f700",
   "outputs": [
    {
     "name": "stdout",
     "output_type": "stream",
     "text": [
      "8\n",
      "9\n"
     ]
    }
   ],
   "execution_count": 10
  },
  {
   "metadata": {},
   "cell_type": "markdown",
   "source": [
    "> [!NOTE]\n",
    "> Note that if one indexes a multidimensional array with fewer indices than dimensions, one gets a subdimensional array. For example:"
   ],
   "id": "94a42fcad1aa4029"
  },
  {
   "metadata": {
    "ExecuteTime": {
     "end_time": "2025-10-09T15:42:36.428944Z",
     "start_time": "2025-10-09T15:42:36.427153Z"
    }
   },
   "cell_type": "code",
   "source": "print(x[0])",
   "id": "dd40d1c66364b7be",
   "outputs": [
    {
     "name": "stdout",
     "output_type": "stream",
     "text": [
      "[0 1 2 3 4]\n"
     ]
    }
   ],
   "execution_count": 11
  }
 ],
 "metadata": {
  "kernelspec": {
   "display_name": "Python 3",
   "language": "python",
   "name": "python3"
  },
  "language_info": {
   "codemirror_mode": {
    "name": "ipython",
    "version": 2
   },
   "file_extension": ".py",
   "mimetype": "text/x-python",
   "name": "python",
   "nbconvert_exporter": "python",
   "pygments_lexer": "ipython2",
   "version": "2.7.6"
  }
 },
 "nbformat": 4,
 "nbformat_minor": 5
}
