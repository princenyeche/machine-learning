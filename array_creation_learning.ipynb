{
 "cells": [
  {
   "cell_type": "code",
   "id": "initial_id",
   "metadata": {
    "collapsed": true,
    "ExecuteTime": {
     "end_time": "2025-10-08T13:39:55.321679Z",
     "start_time": "2025-10-08T13:39:55.278327Z"
    }
   },
   "source": [
    "import numpy as np\n",
    "from jiraone import echo\n",
    "\n",
    "# 1D array\n",
    "a1D = np.array([1, 2, 3, 4])\n",
    "# 2D array\n",
    "a2D = np.array([[1, 2], [3, 4]])\n",
    "# 3D array\n",
    "a3D = np.array([[[1, 2], [3, 4]], [[5, 6], [7, 8]]])\n",
    "echo(a1D)\n",
    "echo(a2D)\n",
    "echo(a3D)\n",
    "# using dtype when assigning types in array\n",
    "# the below will produce an error because it is outside the range\n",
    "assign_type = np.array([127, 128, 129], dtype=np.int8)\n"
   ],
   "outputs": [
    {
     "name": "stdout",
     "output_type": "stream",
     "text": [
      "array([1, 2, 3, 4])\n",
      "array([[1, 2],\n",
      "       [3, 4]])\n",
      "array([[[1, 2],\n",
      "        [3, 4]],\n",
      "\n",
      "       [[5, 6],\n",
      "        [7, 8]]])\n"
     ]
    }
   ],
   "execution_count": 5
  },
  {
   "metadata": {},
   "cell_type": "markdown",
   "source": [
    "An 8-bit signed integer represents integers from -128 to 127.\n",
    "Assigning the int8 array to integers outside of this range results in overflow.\n"
   ],
   "id": "63208f9aa5c43e31"
  },
  {
   "metadata": {
    "ExecuteTime": {
     "end_time": "2025-10-08T15:56:40.854317Z",
     "start_time": "2025-10-08T15:56:40.848328Z"
    }
   },
   "cell_type": "code",
   "source": [
    "a = np.array([2, 3, 4], dtype=np.uint32)\n",
    "b = np.array([5, 6, 7], dtype=np.uint32)\n",
    "c_unsigned32 = a - b\n",
    "print('unsigned c:', c_unsigned32, c_unsigned32.dtype)"
   ],
   "id": "1f3bc8df1e0b52c8",
   "outputs": [
    {
     "name": "stdout",
     "output_type": "stream",
     "text": [
      "unsigned c: [4294967293 4294967293 4294967293] uint32\n"
     ]
    }
   ],
   "execution_count": 6
  },
  {
   "metadata": {},
   "cell_type": "markdown",
   "source": "Notice when you perform operations with two arrays of the same `dtype`: `uint32`, the resulting array is the same type. When you perform operations with different dtype, NumPy will assign a new type that satisfies all of the array elements involved in the computation, here `uint32` and `int32` can both be represented in as `int64`.",
   "id": "8bd705b86d58e6b9"
  },
  {
   "metadata": {
    "ExecuteTime": {
     "end_time": "2025-10-08T15:58:02.944032Z",
     "start_time": "2025-10-08T15:58:02.940645Z"
    }
   },
   "cell_type": "code",
   "source": [
    "c_signed32 = a - b.astype(np.int32)\n",
    "print('signed c:', c_signed32, c_signed32.dtype)"
   ],
   "id": "46d59bba6ffdf67a",
   "outputs": [
    {
     "name": "stdout",
     "output_type": "stream",
     "text": [
      "signed c: [-3 -3 -3] int64\n"
     ]
    }
   ],
   "execution_count": 7
  },
  {
   "metadata": {},
   "cell_type": "markdown",
   "source": [
    "### Creating 1D array functions\n",
    "- `numpy.arange` creates arrays with regularly incrementing values"
   ],
   "id": "f54674ef26bd8fbe"
  },
  {
   "metadata": {
    "ExecuteTime": {
     "end_time": "2025-10-08T15:59:36.269834Z",
     "start_time": "2025-10-08T15:59:36.265822Z"
    }
   },
   "cell_type": "code",
   "source": "np.arange(10)",
   "id": "7a7bf691041ae7ba",
   "outputs": [
    {
     "data": {
      "text/plain": [
       "array([0, 1, 2, 3, 4, 5, 6, 7, 8, 9])"
      ]
     },
     "execution_count": 8,
     "metadata": {},
     "output_type": "execute_result"
    }
   ],
   "execution_count": 8
  },
  {
   "metadata": {
    "ExecuteTime": {
     "end_time": "2025-10-08T16:00:02.224623Z",
     "start_time": "2025-10-08T16:00:02.219978Z"
    }
   },
   "cell_type": "code",
   "source": "np.arange(2, 10, dtype=float)",
   "id": "9746a9ee460a0081",
   "outputs": [
    {
     "data": {
      "text/plain": [
       "array([2., 3., 4., 5., 6., 7., 8., 9.])"
      ]
     },
     "execution_count": 9,
     "metadata": {},
     "output_type": "execute_result"
    }
   ],
   "execution_count": 9
  },
  {
   "metadata": {
    "ExecuteTime": {
     "end_time": "2025-10-08T16:01:10.664243Z",
     "start_time": "2025-10-08T16:01:10.659664Z"
    }
   },
   "cell_type": "code",
   "source": "np.arange(2, 3, 0.1)",
   "id": "d94789fc420541ae",
   "outputs": [
    {
     "data": {
      "text/plain": [
       "array([2. , 2.1, 2.2, 2.3, 2.4, 2.5, 2.6, 2.7, 2.8, 2.9])"
      ]
     },
     "execution_count": 11,
     "metadata": {},
     "output_type": "execute_result"
    }
   ],
   "execution_count": 11
  },
  {
   "metadata": {},
   "cell_type": "markdown",
   "source": "Note: best practice for `numpy.arange` is to use integer start, end, and step values",
   "id": "900be4d9f9de1889"
  },
  {
   "metadata": {},
   "cell_type": "markdown",
   "source": "- `numpy.linspace` will create arrays with a specified number of elements, and spaced equally between the specified beginning and end values",
   "id": "bbad33357dad23ad"
  },
  {
   "metadata": {
    "ExecuteTime": {
     "end_time": "2025-10-08T16:02:56.509312Z",
     "start_time": "2025-10-08T16:02:56.505758Z"
    }
   },
   "cell_type": "code",
   "source": "np.linspace(1., 4., 6)",
   "id": "ffa0bfa3352835fe",
   "outputs": [
    {
     "data": {
      "text/plain": [
       "array([1. , 1.6, 2.2, 2.8, 3.4, 4. ])"
      ]
     },
     "execution_count": 12,
     "metadata": {},
     "output_type": "execute_result"
    }
   ],
   "execution_count": 12
  },
  {
   "metadata": {},
   "cell_type": "markdown",
   "source": "The advantage of this creation function is that you guarantee the number of elements and the starting and end point. The previous `arange(start, stop, step)` will not include the value `stop`.",
   "id": "c8e712ae50ebb724"
  }
 ],
 "metadata": {
  "kernelspec": {
   "display_name": "Python 3",
   "language": "python",
   "name": "python3"
  },
  "language_info": {
   "codemirror_mode": {
    "name": "ipython",
    "version": 2
   },
   "file_extension": ".py",
   "mimetype": "text/x-python",
   "name": "python",
   "nbconvert_exporter": "python",
   "pygments_lexer": "ipython2",
   "version": "2.7.6"
  }
 },
 "nbformat": 4,
 "nbformat_minor": 5
}
