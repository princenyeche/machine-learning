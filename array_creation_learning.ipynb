{
 "cells": [
  {
   "metadata": {},
   "cell_type": "markdown",
   "source": [
    "## Arrays\n",
    "NumPy arrays can be defined using Python sequences such as lists and tuples. Lists and tuples are defined using `[...]` and `(...)`, respectively. Lists and tuples can define ndarray creation:\n",
    "- a list of numbers will create a 1D array,\n",
    "- a list of lists will create a 2D array,\n",
    "- further nested lists will create higher-dimensional arrays. In general, any array object is called an ndarray in NumPy."
   ],
   "id": "e2dd8036b6e0be7e"
  },
  {
   "cell_type": "code",
   "id": "initial_id",
   "metadata": {
    "collapsed": true,
    "ExecuteTime": {
     "end_time": "2025-10-08T13:39:55.321679Z",
     "start_time": "2025-10-08T13:39:55.278327Z"
    }
   },
   "source": [
    "import numpy as np\n",
    "from jiraone import echo\n",
    "\n",
    "# 1D array\n",
    "a1D = np.array([1, 2, 3, 4])\n",
    "# 2D array\n",
    "a2D = np.array([[1, 2], [3, 4]])\n",
    "# 3D array\n",
    "a3D = np.array([[[1, 2], [3, 4]], [[5, 6], [7, 8]]])\n",
    "echo(a1D)\n",
    "echo(a2D)\n",
    "echo(a3D)\n",
    "# using dtype when assigning types in array\n",
    "# the below will produce an error because it is outside the range\n",
    "assign_type = np.array([127, 128, 129], dtype=np.int8)\n"
   ],
   "outputs": [
    {
     "name": "stdout",
     "output_type": "stream",
     "text": [
      "array([1, 2, 3, 4])\n",
      "array([[1, 2],\n",
      "       [3, 4]])\n",
      "array([[[1, 2],\n",
      "        [3, 4]],\n",
      "\n",
      "       [[5, 6],\n",
      "        [7, 8]]])\n"
     ]
    }
   ],
   "execution_count": 5
  },
  {
   "metadata": {},
   "cell_type": "markdown",
   "source": [
    "An 8-bit signed integer represents integers from -128 to 127.\n",
    "Assigning the int8 array to integers outside of this range results in overflow.\n"
   ],
   "id": "63208f9aa5c43e31"
  },
  {
   "metadata": {
    "ExecuteTime": {
     "end_time": "2025-10-08T15:56:40.854317Z",
     "start_time": "2025-10-08T15:56:40.848328Z"
    }
   },
   "cell_type": "code",
   "source": [
    "a = np.array([2, 3, 4], dtype=np.uint32)\n",
    "b = np.array([5, 6, 7], dtype=np.uint32)\n",
    "c_unsigned32 = a - b\n",
    "print('unsigned c:', c_unsigned32, c_unsigned32.dtype)"
   ],
   "id": "1f3bc8df1e0b52c8",
   "outputs": [
    {
     "name": "stdout",
     "output_type": "stream",
     "text": [
      "unsigned c: [4294967293 4294967293 4294967293] uint32\n"
     ]
    }
   ],
   "execution_count": 6
  },
  {
   "metadata": {},
   "cell_type": "markdown",
   "source": "Notice when you perform operations with two arrays of the same `dtype`: `uint32`, the resulting array is the same type. When you perform operations with different dtype, NumPy will assign a new type that satisfies all of the array elements involved in the computation, here `uint32` and `int32` can both be represented in as `int64`.",
   "id": "8bd705b86d58e6b9"
  },
  {
   "metadata": {
    "ExecuteTime": {
     "end_time": "2025-10-08T15:58:02.944032Z",
     "start_time": "2025-10-08T15:58:02.940645Z"
    }
   },
   "cell_type": "code",
   "source": [
    "c_signed32 = a - b.astype(np.int32)\n",
    "print('signed c:', c_signed32, c_signed32.dtype)"
   ],
   "id": "46d59bba6ffdf67a",
   "outputs": [
    {
     "name": "stdout",
     "output_type": "stream",
     "text": [
      "signed c: [-3 -3 -3] int64\n"
     ]
    }
   ],
   "execution_count": 7
  },
  {
   "metadata": {},
   "cell_type": "markdown",
   "source": [
    "### Creating 1D array functions\n",
    "- `numpy.arange` creates arrays with regularly incrementing values"
   ],
   "id": "f54674ef26bd8fbe"
  },
  {
   "metadata": {
    "ExecuteTime": {
     "end_time": "2025-10-08T15:59:36.269834Z",
     "start_time": "2025-10-08T15:59:36.265822Z"
    }
   },
   "cell_type": "code",
   "source": "np.arange(10)",
   "id": "7a7bf691041ae7ba",
   "outputs": [
    {
     "data": {
      "text/plain": [
       "array([0, 1, 2, 3, 4, 5, 6, 7, 8, 9])"
      ]
     },
     "execution_count": 8,
     "metadata": {},
     "output_type": "execute_result"
    }
   ],
   "execution_count": 8
  },
  {
   "metadata": {
    "ExecuteTime": {
     "end_time": "2025-10-08T16:00:02.224623Z",
     "start_time": "2025-10-08T16:00:02.219978Z"
    }
   },
   "cell_type": "code",
   "source": "np.arange(2, 10, dtype=float)",
   "id": "9746a9ee460a0081",
   "outputs": [
    {
     "data": {
      "text/plain": [
       "array([2., 3., 4., 5., 6., 7., 8., 9.])"
      ]
     },
     "execution_count": 9,
     "metadata": {},
     "output_type": "execute_result"
    }
   ],
   "execution_count": 9
  },
  {
   "metadata": {
    "ExecuteTime": {
     "end_time": "2025-10-08T16:01:10.664243Z",
     "start_time": "2025-10-08T16:01:10.659664Z"
    }
   },
   "cell_type": "code",
   "source": "np.arange(2, 3, 0.1)",
   "id": "d94789fc420541ae",
   "outputs": [
    {
     "data": {
      "text/plain": [
       "array([2. , 2.1, 2.2, 2.3, 2.4, 2.5, 2.6, 2.7, 2.8, 2.9])"
      ]
     },
     "execution_count": 11,
     "metadata": {},
     "output_type": "execute_result"
    }
   ],
   "execution_count": 11
  },
  {
   "metadata": {},
   "cell_type": "markdown",
   "source": "Note: best practice for `numpy.arange` is to use integer start, end, and step values",
   "id": "900be4d9f9de1889"
  },
  {
   "metadata": {},
   "cell_type": "markdown",
   "source": "- `numpy.linspace` will create arrays with a specified number of elements, and spaced equally between the specified beginning and end values",
   "id": "bbad33357dad23ad"
  },
  {
   "metadata": {
    "ExecuteTime": {
     "end_time": "2025-10-08T16:02:56.509312Z",
     "start_time": "2025-10-08T16:02:56.505758Z"
    }
   },
   "cell_type": "code",
   "source": "np.linspace(1., 4., 6)",
   "id": "ffa0bfa3352835fe",
   "outputs": [
    {
     "data": {
      "text/plain": [
       "array([1. , 1.6, 2.2, 2.8, 3.4, 4. ])"
      ]
     },
     "execution_count": 12,
     "metadata": {},
     "output_type": "execute_result"
    }
   ],
   "execution_count": 12
  },
  {
   "metadata": {},
   "cell_type": "markdown",
   "source": "The advantage of this creation function is that you guarantee the number of elements and the starting and end point. The previous `arange(start, stop, step)` will not include the value `stop`.",
   "id": "c8e712ae50ebb724"
  },
  {
   "metadata": {},
   "cell_type": "markdown",
   "source": [
    "### Creating 2D array\n",
    "- The 2D array creation functions e.g. `numpy.eye`, `numpy.diag`, and `numpy.vander` define properties of special matrices represented as 2D arrays."
   ],
   "id": "3d637a44c9eaaf51"
  },
  {
   "metadata": {
    "ExecuteTime": {
     "end_time": "2025-10-09T15:03:03.038963Z",
     "start_time": "2025-10-09T15:03:03.036097Z"
    }
   },
   "cell_type": "code",
   "source": [
    "p = np.eye(3)\n",
    "print(p)\n",
    "print(\"*\" * 10)\n",
    "k = np.eye(3, 5)\n",
    "print(k)"
   ],
   "id": "570d224f8dcd599f",
   "outputs": [
    {
     "name": "stdout",
     "output_type": "stream",
     "text": [
      "[[1. 0. 0.]\n",
      " [0. 1. 0.]\n",
      " [0. 0. 1.]]\n",
      "**********\n",
      "[[1. 0. 0. 0. 0.]\n",
      " [0. 1. 0. 0. 0.]\n",
      " [0. 0. 1. 0. 0.]]\n"
     ]
    }
   ],
   "execution_count": 16
  },
  {
   "metadata": {},
   "cell_type": "markdown",
   "source": "`numpy.diag` can define either a square 2D array with given values along the diagonal or if given a 2D array returns a 1D array that is only the diagonal elements",
   "id": "33de94245ef149b9"
  },
  {
   "metadata": {
    "ExecuteTime": {
     "end_time": "2025-10-09T15:04:20.963541Z",
     "start_time": "2025-10-09T15:04:20.961485Z"
    }
   },
   "cell_type": "code",
   "source": [
    "k = np.diag([1, 2, 3])\n",
    "print(k)\n",
    "print(\"*\" * 10)\n",
    "s = np.diag([1,2,3], 1)\n",
    "print(s)"
   ],
   "id": "4fb983966131a090",
   "outputs": [
    {
     "name": "stdout",
     "output_type": "stream",
     "text": [
      "[[1 0 0]\n",
      " [0 2 0]\n",
      " [0 0 3]]\n",
      "**********\n",
      "[[0 1 0 0]\n",
      " [0 0 2 0]\n",
      " [0 0 0 3]\n",
      " [0 0 0 0]]\n"
     ]
    }
   ],
   "execution_count": 17
  },
  {
   "metadata": {},
   "cell_type": "markdown",
   "source": "`vander(x, n)` defines a Vandermonde matrix as a 2D NumPy array. Each column of the Vandermonde matrix is a decreasing power of the input 1D array or list or tuple, `x` where the highest polynomial order is `n-1`.",
   "id": "218e0307ca73d071"
  },
  {
   "metadata": {
    "ExecuteTime": {
     "end_time": "2025-10-09T15:05:46.057307Z",
     "start_time": "2025-10-09T15:05:46.055124Z"
    }
   },
   "cell_type": "code",
   "source": [
    "p = np.vander(np.linspace(0, 2, 5), 2)\n",
    "print(p)"
   ],
   "id": "bca2a042c61f18d9",
   "outputs": [
    {
     "name": "stdout",
     "output_type": "stream",
     "text": [
      "[[0.  1. ]\n",
      " [0.5 1. ]\n",
      " [1.  1. ]\n",
      " [1.5 1. ]\n",
      " [2.  1. ]]\n"
     ]
    }
   ],
   "execution_count": 19
  },
  {
   "metadata": {},
   "cell_type": "markdown",
   "source": [
    "### 3D array\n",
    "- The ndarray creation functions e.g. `numpy.ones`, `numpy.zeros`, and `random` define arrays based upon the desired shape. `numpy.zeros` will create an array filled with 0 values with the specified shape"
   ],
   "id": "a64a4070f7c62fd"
  },
  {
   "metadata": {
    "ExecuteTime": {
     "end_time": "2025-10-09T15:10:12.031689Z",
     "start_time": "2025-10-09T15:10:12.028395Z"
    }
   },
   "cell_type": "code",
   "source": [
    "p = np.zeros((2, 3))\n",
    "print(p)\n",
    "print(\"-\" * 20)\n",
    "c = np.zeros((2, 3, 2))\n",
    "print(c)"
   ],
   "id": "41f4d53ce34af33b",
   "outputs": [
    {
     "name": "stdout",
     "output_type": "stream",
     "text": [
      "[[0. 0. 0.]\n",
      " [0. 0. 0.]]\n",
      "--------------------\n",
      "[[[0. 0.]\n",
      "  [0. 0.]\n",
      "  [0. 0.]]\n",
      "\n",
      " [[0. 0.]\n",
      "  [0. 0.]\n",
      "  [0. 0.]]]\n"
     ]
    }
   ],
   "execution_count": 22
  },
  {
   "metadata": {},
   "cell_type": "markdown",
   "source": "`numpy.ones` will create an array filled with 1 values. It is identical to `zeros` in all other respects as such:",
   "id": "6324309ac333649"
  },
  {
   "metadata": {
    "ExecuteTime": {
     "end_time": "2025-10-09T15:12:44.203512Z",
     "start_time": "2025-10-09T15:12:44.200085Z"
    }
   },
   "cell_type": "code",
   "source": [
    "p = np.ones((2, 3))\n",
    "print(p)\n",
    "print(\"-\" * 20)\n",
    "k = np.ones((2, 3, 2))\n",
    "print(k)"
   ],
   "id": "9bf3d3f979e96bb1",
   "outputs": [
    {
     "name": "stdout",
     "output_type": "stream",
     "text": [
      "[[1. 1. 1.]\n",
      " [1. 1. 1.]]\n",
      "--------------------\n",
      "[[[1. 1.]\n",
      "  [1. 1.]\n",
      "  [1. 1.]]\n",
      "\n",
      " [[1. 1.]\n",
      "  [1. 1.]\n",
      "  [1. 1.]]]\n"
     ]
    }
   ],
   "execution_count": 25
  },
  {
   "metadata": {},
   "cell_type": "markdown",
   "source": "The `random` method of the result of `default_rng` will create an array filled with random values between 0 and 1. It is included with the `numpy.random` library",
   "id": "8cdab470c9c9c6e9"
  },
  {
   "metadata": {
    "ExecuteTime": {
     "end_time": "2025-10-09T15:14:30.789018Z",
     "start_time": "2025-10-09T15:14:30.783762Z"
    }
   },
   "cell_type": "code",
   "source": [
    "from numpy.random import default_rng\n",
    "\n",
    "g = default_rng(42).random((2, 3))\n",
    "print(g)\n",
    "print(\"-\" * 20)\n",
    "f = default_rng(42).random((2, 3, 2))\n",
    "print(f)"
   ],
   "id": "82ccb90ecf5bce70",
   "outputs": [
    {
     "name": "stdout",
     "output_type": "stream",
     "text": [
      "[[0.77395605 0.43887844 0.85859792]\n",
      " [0.69736803 0.09417735 0.97562235]]\n",
      "--------------------\n",
      "[[[0.77395605 0.43887844]\n",
      "  [0.85859792 0.69736803]\n",
      "  [0.09417735 0.97562235]]\n",
      "\n",
      " [[0.7611397  0.78606431]\n",
      "  [0.12811363 0.45038594]\n",
      "  [0.37079802 0.92676499]]]\n"
     ]
    }
   ],
   "execution_count": 26
  },
  {
   "metadata": {},
   "cell_type": "markdown",
   "source": "`numpy.indices` will create a set of arrays (stacked as a one-higher dimensioned array), one per dimension with each representing variation in that dimension",
   "id": "5c64fe4ccd412806"
  },
  {
   "metadata": {
    "ExecuteTime": {
     "end_time": "2025-10-09T15:17:46.527297Z",
     "start_time": "2025-10-09T15:17:46.525178Z"
    }
   },
   "cell_type": "code",
   "source": [
    "r = np.indices((3,3))\n",
    "print(r)"
   ],
   "id": "dc02bb452a857ede",
   "outputs": [
    {
     "name": "stdout",
     "output_type": "stream",
     "text": [
      "[[[0 0 0]\n",
      "  [1 1 1]\n",
      "  [2 2 2]]\n",
      "\n",
      " [[0 1 2]\n",
      "  [0 1 2]\n",
      "  [0 1 2]]]\n"
     ]
    }
   ],
   "execution_count": 27
  },
  {
   "metadata": {},
   "cell_type": "markdown",
   "source": [
    "### Replicate, join or mutate arrays\n",
    "- When you assign an array or its elements to a new variable, you have to explicitly `numpy.copy` the array, otherwise the variable is a view into the original array."
   ],
   "id": "d270bae8a1e92a7d"
  },
  {
   "metadata": {
    "ExecuteTime": {
     "end_time": "2025-10-09T15:21:06.346054Z",
     "start_time": "2025-10-09T15:21:06.343104Z"
    }
   },
   "cell_type": "code",
   "source": [
    "a = np.array([1, 2, 3, 4, 5, 6])\n",
    "b = a[:2]\n",
    "b += 1\n",
    "print(\"a =\", a, \"; b =\", b)"
   ],
   "id": "4c8032d6a31d302f",
   "outputs": [
    {
     "name": "stdout",
     "output_type": "stream",
     "text": [
      "a = [2 3 3 4 5 6] ; b = [2 3]\n"
     ]
    }
   ],
   "execution_count": 28
  },
  {
   "metadata": {},
   "cell_type": "markdown",
   "source": "When you added 1 to `b` you would get the same result by adding 1 to `a[:2]`. If you want to create a new array, use the `numpy.copy` array creation routine",
   "id": "b3788b76cb3cb2d7"
  },
  {
   "metadata": {
    "ExecuteTime": {
     "end_time": "2025-10-09T15:23:01.379010Z",
     "start_time": "2025-10-09T15:23:01.375758Z"
    }
   },
   "cell_type": "code",
   "source": [
    "a = np.array([1, 2, 3, 4])\n",
    "b = a[:2].copy()\n",
    "b += 1\n",
    "print(\"a =\", a, \"; b =\", b)"
   ],
   "id": "a67b8b9d1f42d736",
   "outputs": [
    {
     "name": "stdout",
     "output_type": "stream",
     "text": [
      "a = [1 2 3 4] ; b = [2 3]\n"
     ]
    }
   ],
   "execution_count": 29
  },
  {
   "metadata": {},
   "cell_type": "markdown",
   "source": "There are a number of routines to join existing arrays e.g. `numpy.vstack`, `numpy.hstack`, and `numpy.block`. Here is an example of joining four 2-by-2 arrays into a 4-by-4 array using `block`",
   "id": "30bf3e9710781ab5"
  },
  {
   "metadata": {
    "ExecuteTime": {
     "end_time": "2025-10-09T15:25:23.034346Z",
     "start_time": "2025-10-09T15:25:23.031123Z"
    }
   },
   "cell_type": "code",
   "source": [
    "A = np.ones((2, 2))\n",
    "B = np.eye(2, 2)\n",
    "C = np.zeros((2, 2))\n",
    "D = np.diag((-3, -4))\n",
    "E = np.block([[A, B], [C, D]])\n",
    "print(E)"
   ],
   "id": "a973791cd85c68e7",
   "outputs": [
    {
     "name": "stdout",
     "output_type": "stream",
     "text": [
      "[[ 1.  1.  1.  0.]\n",
      " [ 1.  1.  0.  1.]\n",
      " [ 0.  0. -3.  0.]\n",
      " [ 0.  0.  0. -4.]]\n"
     ]
    }
   ],
   "execution_count": 30
  },
  {
   "metadata": {},
   "cell_type": "markdown",
   "source": [
    "### Reading arrays from disk, either from standard or custom formats\n",
    "This is the most common case of large array creation. The details depend greatly on the format of data on disk\n",
    "\n",
    "#### Standard binary formats\n",
    "Various fields have standard formats for array data. The following lists the ones with known Python libraries to read them and return NumPy arrays\n",
    "\n",
    "```text\n",
    "HDF5: h5py\n",
    "FITS: Astropy\n",
    "```\n",
    "Examples of formats that cannot be read directly but for which it is not hard to convert are those formats supported by libraries like PIL\n",
    "\n",
    "#### Common ASCII formats\n",
    "Delimited files such as comma separated value (csv) and tab separated value (tsv) files are used for programs like Excel and LabView. Python functions can read and parse these files line-by-line. NumPy has two standard routines for importing a file with delimited data `numpy.loadtxt` and `numpy.genfromtxt`\n",
    "\n",
    "```shell\n",
    "$ cat simple.csv\n",
    "x, y\n",
    "0, 0\n",
    "1, 1\n",
    "2, 4\n",
    "3, 9\n",
    "```\n",
    "importing `simple.csv` using `numpy.loadtxt`\n"
   ],
   "id": "e1e7088339bcaa0e"
  },
  {
   "metadata": {},
   "cell_type": "code",
   "outputs": [],
   "execution_count": null,
   "source": "c = np.loadtxt('simple.csv', delimiter=',' , skiprows=1)",
   "id": "592065d8908bc201"
  },
  {
   "metadata": {},
   "cell_type": "markdown",
   "source": [
    "More generic ASCII files can be read using `scipy.io` and `Pandas`.\n",
    "\n",
    "#### Creating arrays from raw bytes through the use of strings or buffers\n",
    "There are a variety of approaches one can use. If the file has a relatively simple format then one can write a simple I/O library and use the NumPy `fromfile()` function and `.tofile()` method to read and write NumPy arrays directly (mind your byteorder though!)\n",
    "\n",
    "#### Use of special library functions (e.g. SciPy, pandas, and OpenCV)\n",
    "NumPy is the fundamental library for array containers in the Python Scientific Computing stack. Many Python libraries, including SciPy, Pandas, and OpenCV, use NumPy ndarrays as the common format for data exchange\n"
   ],
   "id": "bbae78bf03785b2e"
  }
 ],
 "metadata": {
  "kernelspec": {
   "display_name": "Python 3",
   "language": "python",
   "name": "python3"
  },
  "language_info": {
   "codemirror_mode": {
    "name": "ipython",
    "version": 2
   },
   "file_extension": ".py",
   "mimetype": "text/x-python",
   "name": "python",
   "nbconvert_exporter": "python",
   "pygments_lexer": "ipython2",
   "version": "2.7.6"
  }
 },
 "nbformat": 4,
 "nbformat_minor": 5
}
