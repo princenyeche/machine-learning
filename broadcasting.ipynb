{
 "cells": [
  {
   "metadata": {},
   "cell_type": "markdown",
   "source": [
    "## Broadcasting\n",
    "The term broadcasting describes how NumPy treats arrays with different shapes during arithmetic operations. Subject to certain constraints, the smaller array is “broadcast” across the larger array so that they have compatible shapes. Broadcasting provides a means of vectorizing array operations so that looping occurs in C instead of Python.  It does this without making needless copies of data and usually leads to efficient algorithm implementations. There are, however, cases where broadcasting is a bad idea because it leads to inefficient use of memory that slows computation.\n",
    "\n"
   ],
   "id": "c30544669baf0f2f"
  },
  {
   "metadata": {
    "ExecuteTime": {
     "end_time": "2025-10-15T14:36:44.987823Z",
     "start_time": "2025-10-15T14:36:44.950565Z"
    }
   },
   "cell_type": "code",
   "source": [
    "import numpy as np\n",
    "\n",
    "a = np.array([1.0, 2.0, 3.0])\n",
    "b = np.array([2.0, 2.0, 2.0])\n",
    "c = a * b\n",
    "print(c)"
   ],
   "id": "b9cbe374166d7cce",
   "outputs": [
    {
     "name": "stdout",
     "output_type": "stream",
     "text": [
      "[2. 4. 6.]\n"
     ]
    }
   ],
   "execution_count": 1
  },
  {
   "metadata": {},
   "cell_type": "markdown",
   "source": "NumPy’s broadcasting rule relaxes this constraint when the arrays’ shapes meet certain constraints. The simplest broadcasting example occurs when an array and a scalar value are combined in an operation",
   "id": "da7ad7699ec68ab7"
  },
  {
   "metadata": {
    "ExecuteTime": {
     "end_time": "2025-10-15T14:37:18.464851Z",
     "start_time": "2025-10-15T14:37:18.459913Z"
    }
   },
   "cell_type": "code",
   "source": [
    "a = np.array([1.0, 2.0, 3.0])\n",
    "b = 2.0\n",
    "c = a * b\n",
    "print(c)"
   ],
   "id": "102ff60f6b0cbbe8",
   "outputs": [
    {
     "name": "stdout",
     "output_type": "stream",
     "text": [
      "[2. 4. 6.]\n"
     ]
    }
   ],
   "execution_count": 2
  },
  {
   "metadata": {},
   "cell_type": "markdown",
   "source": [
    "The result is equivalent to the previous example where b was an array. We can think of the scalar b being stretched during the arithmetic operation into an array with the same shape as a. The new elements in b, as shown in Figure 1, are simply copies of the original scalar. The stretching analogy is only conceptual. NumPy is smart enough to use the original scalar value without actually making copies so that broadcasting operations are as memory and computationally efficient as possible.\n",
    "\n",
    "### General broadcasting rules\n",
    "\n",
    "When operating on two arrays, NumPy compares their shapes element-wise. It starts with the trailing (i.e. rightmost) dimension and works its way left. Two dimensions are compatible when\n",
    "\n",
    "- they are equal, or\n",
    "- one of them is 1.\n",
    "\n",
    "If these conditions are not met, a ValueError: operands could not be broadcast together exception is thrown, indicating that the arrays have incompatible shapes.\n",
    "\n",
    "### Broadcastable arrays\n",
    "A set of arrays is called “broadcastable” to the same shape if the above rules produce a valid result.\n",
    "\n",
    "For example, if `a.shape` is (5,1), `b.shape` is (1,6), `c.shape` is (6,) and `d.shape` is () so that d is a scalar, then a, b, c, and d are all broadcastable to dimension (5,6); and\n",
    "\n",
    "- a acts like a (5,6) array where `a[:,0]` is broadcast to the other columns,\n",
    "- b acts like a (5,6) array where `b[0,:]` is broadcast to the other rows,\n",
    "- c acts like a (1,6) array and therefore like a (5,6) array where `c[:]` is broadcast to every row, and finally,\n",
    "- d acts like a (5,6) array where the single value is repeated.\n",
    "\n",
    "```\n",
    "A      (2d array):  5 x 4\n",
    "B      (1d array):      1\n",
    "Result (2d array):  5 x 4\n",
    "\n",
    "A      (2d array):  5 x 4\n",
    "B      (1d array):      4\n",
    "Result (2d array):  5 x 4\n",
    "\n",
    "A      (3d array):  15 x 3 x 5\n",
    "B      (3d array):  15 x 1 x 5\n",
    "Result (3d array):  15 x 3 x 5\n",
    "\n",
    "A      (3d array):  15 x 3 x 5\n",
    "B      (2d array):       3 x 5\n",
    "Result (3d array):  15 x 3 x 5\n",
    "\n",
    "A      (3d array):  15 x 3 x 5\n",
    "B      (2d array):       3 x 1\n",
    "Result (3d array):  15 x 3 x 5\n",
    "```"
   ],
   "id": "fd93eac6593d3f9b"
  },
  {
   "metadata": {
    "ExecuteTime": {
     "end_time": "2025-10-15T14:42:50.736968Z",
     "start_time": "2025-10-15T14:42:50.633396Z"
    }
   },
   "cell_type": "code",
   "source": [
    "a = np.array([[ 0.0,  0.0,  0.0],\n",
    "              [10.0, 10.0, 10.0],\n",
    "              [20.0, 20.0, 20.0],\n",
    "              [30.0, 30.0, 30.0]])\n",
    "b = np.array([1.0, 2.0, 3.0])\n",
    "c = a + b\n",
    "print(c)\n",
    "print(\"-\" * 20)\n",
    "b = np.array([1.0, 2.0, 3.0, 4.0])\n",
    "c = a + b\n",
    "print(c)"
   ],
   "id": "e3b8d869be9b8642",
   "outputs": [
    {
     "name": "stdout",
     "output_type": "stream",
     "text": [
      "[[ 1.  2.  3.]\n",
      " [11. 12. 13.]\n",
      " [21. 22. 23.]\n",
      " [31. 32. 33.]]\n",
      "--------------------\n"
     ]
    },
    {
     "ename": "ValueError",
     "evalue": "operands could not be broadcast together with shapes (4,3) (4,) ",
     "output_type": "error",
     "traceback": [
      "\u001B[31m---------------------------------------------------------------------------\u001B[39m",
      "\u001B[31mValueError\u001B[39m                                Traceback (most recent call last)",
      "\u001B[36mCell\u001B[39m\u001B[36m \u001B[39m\u001B[32mIn[4]\u001B[39m\u001B[32m, line 10\u001B[39m\n\u001B[32m      8\u001B[39m \u001B[38;5;28mprint\u001B[39m(\u001B[33m\"\u001B[39m\u001B[33m-\u001B[39m\u001B[33m\"\u001B[39m * \u001B[32m20\u001B[39m)\n\u001B[32m      9\u001B[39m b = np.array([\u001B[32m1.0\u001B[39m, \u001B[32m2.0\u001B[39m, \u001B[32m3.0\u001B[39m, \u001B[32m4.0\u001B[39m])\n\u001B[32m---> \u001B[39m\u001B[32m10\u001B[39m c = \u001B[43ma\u001B[49m\u001B[43m \u001B[49m\u001B[43m+\u001B[49m\u001B[43m \u001B[49m\u001B[43mb\u001B[49m\n\u001B[32m     11\u001B[39m \u001B[38;5;28mprint\u001B[39m(c)\n",
      "\u001B[31mValueError\u001B[39m: operands could not be broadcast together with shapes (4,3) (4,) "
     ]
    }
   ],
   "execution_count": 4
  },
  {
   "metadata": {},
   "cell_type": "markdown",
   "source": "![broadcasting](./images/broadcasting.png)",
   "id": "c0723ce79002341f"
  },
  {
   "metadata": {
    "ExecuteTime": {
     "end_time": "2025-10-15T14:49:22.770942Z",
     "start_time": "2025-10-15T14:49:22.764397Z"
    }
   },
   "cell_type": "code",
   "source": [
    "a = np.array([0.0, 10.0, 20.0, 30.0])\n",
    "b = np.array([1.0, 2.0, 3.0])\n",
    "c = a[:, np.newaxis] + b\n",
    "print(c)"
   ],
   "id": "33a890e282f4dfa",
   "outputs": [
    {
     "name": "stdout",
     "output_type": "stream",
     "text": [
      "[[ 1.  2.  3.]\n",
      " [11. 12. 13.]\n",
      " [21. 22. 23.]\n",
      " [31. 32. 33.]]\n"
     ]
    }
   ],
   "execution_count": 5
  },
  {
   "metadata": {},
   "cell_type": "markdown",
   "source": "![broadcasting2](./images/broadcasting2.png)",
   "id": "e1f5e1092d08ec5f"
  },
  {
   "metadata": {},
   "cell_type": "markdown",
   "source": [
    "### A practical example: vector quantization\n",
    "Broadcasting comes up quite often in real world problems. A typical example occurs in the vector quantization (VQ) algorithm used in information theory, classification, and other related areas. The basic operation in VQ finds the closest point in a set of points, called `codes` in VQ jargon, to a given point, called the `observation`."
   ],
   "id": "43386d4859580da6"
  },
  {
   "metadata": {
    "ExecuteTime": {
     "end_time": "2025-10-15T14:53:20.827472Z",
     "start_time": "2025-10-15T14:53:20.825090Z"
    }
   },
   "cell_type": "code",
   "source": [
    "from numpy import array, argmin, sqrt, sum\n",
    "observation = array([111.0, 188.0])\n",
    "codes = array([[102.0, 203.0],\n",
    "               [132.0, 193.0],\n",
    "               [45.0, 155.0],\n",
    "               [57.0, 173.0]])\n",
    "diff = codes - observation    # the broadcast happens here\n",
    "dist = sqrt(sum(diff**2,axis=-1))\n",
    "argmin(dist)\n",
    "print(observation)\n",
    "print(\"-\" * 20)\n",
    "print(codes)\n",
    "print(\"-\" * 20)\n",
    "print(diff)"
   ],
   "id": "9e505abac3712f73",
   "outputs": [
    {
     "name": "stdout",
     "output_type": "stream",
     "text": [
      "[111. 188.]\n",
      "--------------------\n",
      "[[102. 203.]\n",
      " [132. 193.]\n",
      " [ 45. 155.]\n",
      " [ 57. 173.]]\n",
      "--------------------\n",
      "[[ -9.  15.]\n",
      " [ 21.   5.]\n",
      " [-66. -33.]\n",
      " [-54. -15.]]\n"
     ]
    }
   ],
   "execution_count": 9
  }
 ],
 "metadata": {
  "kernelspec": {
   "display_name": "Python 3",
   "language": "python",
   "name": "python3"
  },
  "language_info": {
   "codemirror_mode": {
    "name": "ipython",
    "version": 2
   },
   "file_extension": ".py",
   "mimetype": "text/x-python",
   "name": "python",
   "nbconvert_exporter": "python",
   "pygments_lexer": "ipython2",
   "version": "2.7.6"
  }
 },
 "nbformat": 4,
 "nbformat_minor": 5
}
