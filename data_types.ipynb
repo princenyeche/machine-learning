{
 "cells": [
  {
   "metadata": {},
   "cell_type": "markdown",
   "source": [
    "## Data types\n",
    "NumPy supports a much greater variety of numerical types than Python does. This section shows which are available, and how to modify an array’s data-type.\n",
    "\n",
    "### Array types and conversions between types\n"
   ],
   "id": "2d10d4c44abfccdc"
  },
  {
   "metadata": {
    "ExecuteTime": {
     "end_time": "2025-10-15T14:25:32.298291Z",
     "start_time": "2025-10-15T14:25:32.261233Z"
    }
   },
   "cell_type": "code",
   "source": [
    "import numpy as np\n",
    "z = np.arange(3, dtype=np.uint8)\n",
    "print(z)"
   ],
   "id": "199f5419334d7fdc",
   "outputs": [
    {
     "name": "stdout",
     "output_type": "stream",
     "text": [
      "[0 1 2]\n"
     ]
    }
   ],
   "execution_count": 1
  },
  {
   "metadata": {},
   "cell_type": "markdown",
   "source": "Array types can also be referred to by character codes, for example:",
   "id": "ae1dfd85a6536c8c"
  },
  {
   "metadata": {
    "ExecuteTime": {
     "end_time": "2025-10-15T14:26:16.315632Z",
     "start_time": "2025-10-15T14:26:16.311596Z"
    }
   },
   "cell_type": "code",
   "source": [
    "x = np.array([1, 2, 3], dtype='f')\n",
    "print(x)\n",
    "print(\"-\" * 20)\n",
    "y = np.array([1, 2, 3], dtype='d')\n",
    "print(y)"
   ],
   "id": "bb7ebf95fb5cb554",
   "outputs": [
    {
     "name": "stdout",
     "output_type": "stream",
     "text": [
      "[1. 2. 3.]\n",
      "--------------------\n",
      "[1. 2. 3.]\n"
     ]
    }
   ],
   "execution_count": 2
  },
  {
   "metadata": {},
   "cell_type": "markdown",
   "source": "Note that, above, we could have used the Python float object as a dtype instead of `numpy.float64`. NumPy knows that int refers to `numpy.int_`, bool means `numpy.bool`, that float is `numpy.float64` and complex is `numpy.complex128`. The other data-types do not have Python equivalents.",
   "id": "3d7f1bf772c9536f"
  },
  {
   "metadata": {
    "ExecuteTime": {
     "end_time": "2025-10-15T14:29:21.465161Z",
     "start_time": "2025-10-15T14:29:21.461734Z"
    }
   },
   "cell_type": "code",
   "source": [
    "print(z.dtype)\n",
    "print(\"-\" * 20)\n",
    "d = np.dtype(np.int64)\n",
    "print(d)\n",
    "print(\"-\" * 20)\n",
    "x = np.issubdtype(d, np.integer)\n",
    "print(x)"
   ],
   "id": "d8903ad88b676da4",
   "outputs": [
    {
     "name": "stdout",
     "output_type": "stream",
     "text": [
      "uint8\n",
      "--------------------\n",
      "int64\n",
      "--------------------\n",
      "True\n"
     ]
    }
   ],
   "execution_count": 5
  },
  {
   "metadata": {},
   "cell_type": "markdown",
   "source": [
    "### Numerical Data Types\n",
    "There are 5 basic numerical types representing booleans (`bool`), integers (`int`), unsigned integers (`uint`) floating point (`float`) and `complex`. A basic numerical type name combined with a numeric bitsize defines a concrete type. For example, `numpy.float64` is a 64 bit floating point data type. Some types, such as `numpy.int_` and `numpy.intp`, have differing bitsizes, dependent on the platforms (e.g. 32-bit vs. 64-bit CPU architectures).\n",
    "\n",
    "### Data Types for Strings and Bytes\n",
    "In addition to numerical types, NumPy also supports storing unicode strings, via the `numpy.str_` dtype (U character code), null-terminated byte sequences via `numpy.bytes_` (S character code), and arbitrary byte sequences, via `numpy.void` (V character code)."
   ],
   "id": "68cc9f6fcb531cf4"
  },
  {
   "metadata": {},
   "cell_type": "code",
   "outputs": [],
   "execution_count": null,
   "source": [
    "x = np.array([\"hello\", \"world!\"])\n",
    "print(x)"
   ],
   "id": "c63fab1bc41625c7"
  },
  {
   "metadata": {},
   "cell_type": "markdown",
   "source": "Here the data type is detected as a unicode string that is a maximum of 6 code points long, enough to store both entries without truncation",
   "id": "cfd46d5675109498"
  },
  {
   "metadata": {
    "ExecuteTime": {
     "end_time": "2025-10-15T14:32:36.007031Z",
     "start_time": "2025-10-15T14:32:36.003652Z"
    }
   },
   "cell_type": "code",
   "source": [
    "x = np.array([\"hello\", \"world!\"], dtype=\"U5\")\n",
    "print(x)\n",
    "y = np.array([\"hello\", \"world!\"], dtype=\"U7\")\n",
    "print(y)"
   ],
   "id": "3055e81fc749fda9",
   "outputs": [
    {
     "name": "stdout",
     "output_type": "stream",
     "text": [
      "['hello' 'world']\n",
      "['hello' 'world!']\n"
     ]
    }
   ],
   "execution_count": 6
  },
  {
   "metadata": {},
   "cell_type": "markdown",
   "source": "We can see the zero-padding a little more clearly if we use the bytes data type and ask NumPy to print out the bytes in the array buffer:",
   "id": "116621e330bc85a2"
  },
  {
   "metadata": {
    "ExecuteTime": {
     "end_time": "2025-10-15T14:33:15.952238Z",
     "start_time": "2025-10-15T14:33:15.949008Z"
    }
   },
   "cell_type": "code",
   "source": [
    "x = np.array([\"hello\", \"world\"], dtype=\"S7\").tobytes()\n",
    "print(x)"
   ],
   "id": "831f75b1d0ef73b3",
   "outputs": [
    {
     "name": "stdout",
     "output_type": "stream",
     "text": [
      "b'hello\\x00\\x00world\\x00\\x00'\n"
     ]
    }
   ],
   "execution_count": 7
  },
  {
   "metadata": {},
   "cell_type": "markdown",
   "source": "Each entry is padded with two extra null bytes. Note however that NumPy cannot tell the difference between intentionally stored trailing nulls and padding nulls:",
   "id": "3149d37577f02e1c"
  },
  {
   "metadata": {
    "ExecuteTime": {
     "end_time": "2025-10-15T14:34:21.907595Z",
     "start_time": "2025-10-15T14:34:21.904364Z"
    }
   },
   "cell_type": "code",
   "source": [
    "x = [b\"hello\\0\\0\", b\"world\"]\n",
    "a = np.array(x, dtype=\"S7\")\n",
    "print(a[0])\n",
    "print(\"-\" * 20)\n",
    "c = a[0] == x[0]\n",
    "print(c)"
   ],
   "id": "836af267165c3bcc",
   "outputs": [
    {
     "name": "stdout",
     "output_type": "stream",
     "text": [
      "b'hello'\n",
      "--------------------\n",
      "False\n"
     ]
    }
   ],
   "execution_count": 8
  }
 ],
 "metadata": {
  "kernelspec": {
   "display_name": "Python 3",
   "language": "python",
   "name": "python3"
  },
  "language_info": {
   "codemirror_mode": {
    "name": "ipython",
    "version": 2
   },
   "file_extension": ".py",
   "mimetype": "text/x-python",
   "name": "python",
   "nbconvert_exporter": "python",
   "pygments_lexer": "ipython2",
   "version": "2.7.6"
  }
 },
 "nbformat": 4,
 "nbformat_minor": 5
}
