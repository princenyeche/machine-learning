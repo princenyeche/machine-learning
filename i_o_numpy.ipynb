{
 "cells": [
  {
   "metadata": {},
   "cell_type": "markdown",
   "source": [
    "# I/O with Numpy\n",
    "\n",
    "NumPy provides several functions to create arrays from tabular data. We focus here on the `genfromtxt` function. In a nutshell, `genfromtxt` runs two main loops. The first loop converts each line of the file in a sequence of strings. The second loop converts each string to the appropriate data type. This mechanism is slower than a single loop, but gives more flexibility."
   ],
   "id": "488d3654c3dd3ca"
  },
  {
   "metadata": {},
   "cell_type": "code",
   "outputs": [],
   "execution_count": null,
   "source": [
    "import numpy as np\n",
    "from io import StringIO"
   ],
   "id": "72309d074594323a"
  },
  {
   "metadata": {},
   "cell_type": "markdown",
   "source": [
    "### Defining the input\n",
    "The only mandatory argument of `genfromtxt` is the source of the data. It can be a string, a list of strings, a generator or an open file-like object with a read method, for example, a file or `io.StringIO` object. If a single string is provided, it is assumed to be the name of a local or remote file.\n",
    "\n",
    "### Splitting the lines into columns\n",
    "Once the file is defined and open for reading, `genfromtxt` splits each non-empty line into a sequence of strings. Empty or commented lines are just skipped. The delimiter keyword is used to define how the splitting should take place.\n"
   ],
   "id": "49f8aa609f8f76c1"
  },
  {
   "metadata": {
    "ExecuteTime": {
     "end_time": "2025-10-13T14:42:38.188809Z",
     "start_time": "2025-10-13T14:42:38.121621Z"
    }
   },
   "cell_type": "code",
   "source": [
    "import numpy as np\n",
    "from io import StringIO\n",
    "data = \"1, 2, 3\\n4, 5, 6\"\n",
    "np.genfromtxt(StringIO(data), delimiter=\",\")"
   ],
   "id": "b6259f789cb5aa36",
   "outputs": [
    {
     "data": {
      "text/plain": [
       "array([[1., 2., 3.],\n",
       "       [4., 5., 6.]])"
      ]
     },
     "execution_count": 2,
     "metadata": {},
     "output_type": "execute_result"
    }
   ],
   "execution_count": 2
  },
  {
   "metadata": {},
   "cell_type": "markdown",
   "source": "Another common separator is `\"\\t\"`, the tabulation character. However, we are not limited to a single character, any string will do. By default, `genfromtxt` assumes delimiter=None, meaning that the line is split along white spaces (including tabs) and that consecutive white spaces are considered as a single white space.",
   "id": "b0300a864bcbafc9"
  },
  {
   "metadata": {
    "ExecuteTime": {
     "end_time": "2025-10-13T14:44:27.712505Z",
     "start_time": "2025-10-13T14:44:27.707977Z"
    }
   },
   "cell_type": "code",
   "source": [
    "data = \"  1  2  3\\n  4  5 67\\n890123  4\"\n",
    "np.genfromtxt(StringIO(data), delimiter=3)"
   ],
   "id": "ec502a2393de9327",
   "outputs": [
    {
     "data": {
      "text/plain": [
       "array([[  1.,   2.,   3.],\n",
       "       [  4.,   5.,  67.],\n",
       "       [890., 123.,   4.]])"
      ]
     },
     "execution_count": 3,
     "metadata": {},
     "output_type": "execute_result"
    }
   ],
   "execution_count": 3
  },
  {
   "metadata": {},
   "cell_type": "code",
   "outputs": [],
   "execution_count": null,
   "source": "x = np.reshape(1,)",
   "id": "94ed12257c15ec08"
  }
 ],
 "metadata": {
  "kernelspec": {
   "display_name": "Python 3",
   "language": "python",
   "name": "python3"
  },
  "language_info": {
   "codemirror_mode": {
    "name": "ipython",
    "version": 2
   },
   "file_extension": ".py",
   "mimetype": "text/x-python",
   "name": "python",
   "nbconvert_exporter": "python",
   "pygments_lexer": "ipython2",
   "version": "2.7.6"
  }
 },
 "nbformat": 4,
 "nbformat_minor": 5
}
