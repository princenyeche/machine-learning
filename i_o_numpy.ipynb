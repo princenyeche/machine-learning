{
 "cells": [
  {
   "metadata": {},
   "cell_type": "markdown",
   "source": [
    "# I/O with Numpy\n",
    "\n",
    "NumPy provides several functions to create arrays from tabular data. We focus here on the `genfromtxt` function. In a nutshell, `genfromtxt` runs two main loops. The first loop converts each line of the file in a sequence of strings. The second loop converts each string to the appropriate data type. This mechanism is slower than a single loop, but gives more flexibility."
   ],
   "id": "488d3654c3dd3ca"
  },
  {
   "metadata": {},
   "cell_type": "code",
   "outputs": [],
   "execution_count": null,
   "source": [
    "import numpy as np\n",
    "from io import StringIO"
   ],
   "id": "72309d074594323a"
  },
  {
   "metadata": {},
   "cell_type": "markdown",
   "source": [
    "### Defining the input\n",
    "The only mandatory argument of `genfromtxt` is the source of the data. It can be a string, a list of strings, a generator or an open file-like object with a read method, for example, a file or `io.StringIO` object. If a single string is provided, it is assumed to be the name of a local or remote file.\n",
    "\n",
    "### Splitting the lines into columns\n",
    "Once the file is defined and open for reading, `genfromtxt` splits each non-empty line into a sequence of strings. Empty or commented lines are just skipped. The delimiter keyword is used to define how the splitting should take place.\n"
   ],
   "id": "49f8aa609f8f76c1"
  },
  {
   "metadata": {
    "ExecuteTime": {
     "end_time": "2025-10-13T14:42:38.188809Z",
     "start_time": "2025-10-13T14:42:38.121621Z"
    }
   },
   "cell_type": "code",
   "source": [
    "import numpy as np\n",
    "from io import StringIO\n",
    "data = \"1, 2, 3\\n4, 5, 6\"\n",
    "np.genfromtxt(StringIO(data), delimiter=\",\")"
   ],
   "id": "b6259f789cb5aa36",
   "outputs": [
    {
     "data": {
      "text/plain": [
       "array([[1., 2., 3.],\n",
       "       [4., 5., 6.]])"
      ]
     },
     "execution_count": 2,
     "metadata": {},
     "output_type": "execute_result"
    }
   ],
   "execution_count": 2
  },
  {
   "metadata": {},
   "cell_type": "markdown",
   "source": "Another common separator is `\"\\t\"`, the tabulation character. However, we are not limited to a single character, any string will do. By default, `genfromtxt` assumes delimiter=None, meaning that the line is split along white spaces (including tabs) and that consecutive white spaces are considered as a single white space.",
   "id": "b0300a864bcbafc9"
  },
  {
   "metadata": {
    "ExecuteTime": {
     "end_time": "2025-10-13T14:44:27.712505Z",
     "start_time": "2025-10-13T14:44:27.707977Z"
    }
   },
   "cell_type": "code",
   "source": [
    "data = \"  1  2  3\\n  4  5 67\\n890123  4\"\n",
    "np.genfromtxt(StringIO(data), delimiter=3)"
   ],
   "id": "ec502a2393de9327",
   "outputs": [
    {
     "data": {
      "text/plain": [
       "array([[  1.,   2.,   3.],\n",
       "       [  4.,   5.,  67.],\n",
       "       [890., 123.,   4.]])"
      ]
     },
     "execution_count": 3,
     "metadata": {},
     "output_type": "execute_result"
    }
   ],
   "execution_count": 3
  },
  {
   "metadata": {},
   "cell_type": "markdown",
   "source": [
    "### The autostrip argument\n",
    "By default, when a line is decomposed into a series of strings, the individual entries are not stripped of leading nor trailing white spaces.\n"
   ],
   "id": "41fbcc2b9d084b30"
  },
  {
   "metadata": {
    "ExecuteTime": {
     "end_time": "2025-10-15T14:07:54.163812Z",
     "start_time": "2025-10-15T14:07:54.160150Z"
    }
   },
   "cell_type": "code",
   "source": [
    "data = \"1, abc , 2\\n 3, xxx, 4\"\n",
    "x = np.genfromtxt(StringIO(data), delimiter=\",\", dtype=\"|U5\")\n",
    "print(\"Without autostrip \\n\", x)\n",
    "print(\"-\" * 20)\n",
    "y = np.genfromtxt(StringIO(data), delimiter=\",\", dtype=\"|U5\", autostrip=True)\n",
    "print(\"With autostrip \\n\", y)"
   ],
   "id": "32677e3065b166f7",
   "outputs": [
    {
     "name": "stdout",
     "output_type": "stream",
     "text": [
      "Without autostrip \n",
      " [['1' ' abc ' ' 2']\n",
      " ['3' ' xxx' ' 4']]\n",
      "--------------------\n",
      "With autostrip \n",
      " [['1' 'abc' '2']\n",
      " ['3' 'xxx' '4']]\n"
     ]
    }
   ],
   "execution_count": 5
  },
  {
   "metadata": {},
   "cell_type": "markdown",
   "source": [
    "### The comments argument\n",
    "The optional argument `comments` is used to define a character string that marks the beginning of a comment. By default, `genfromtxt` assumes `comments='#'`. The comment marker may occur anywhere on the line.\n",
    "\n",
    "> [NOTE!]\n",
    "> There is one notable exception to this behavior: if the optional argument names=True, the first commented line will be examined for names."
   ],
   "id": "bf663c9f1fd03e69"
  },
  {
   "metadata": {
    "ExecuteTime": {
     "end_time": "2025-10-15T14:09:37.432137Z",
     "start_time": "2025-10-15T14:09:37.429928Z"
    }
   },
   "cell_type": "code",
   "source": [
    "data = \"\"\"#\n",
    "# Skip me !\n",
    "# Skip me too !\n",
    "1, 2\n",
    "3, 4\n",
    "5, 6 #This is the third line of the data\n",
    "7, 8\n",
    "# And here comes the last line\n",
    "9, 0\n",
    "\"\"\"\n",
    "s = np.genfromtxt(StringIO(data), comments=\"#\", delimiter=\",\")\n",
    "print(s)"
   ],
   "id": "a9742b22d40fa0b",
   "outputs": [
    {
     "name": "stdout",
     "output_type": "stream",
     "text": [
      "[[1. 2.]\n",
      " [3. 4.]\n",
      " [5. 6.]\n",
      " [7. 8.]\n",
      " [9. 0.]]\n"
     ]
    }
   ],
   "execution_count": 6
  },
  {
   "metadata": {},
   "cell_type": "markdown",
   "source": [
    "### The skip_header and skip_footer arguments\n",
    "The presence of a header in the file can hinder data processing. In that case, we need to use the `skip_header` optional argument. The values of this argument must be an integer which corresponds to the number of lines to skip at the beginning of the file, before any other action is performed. Similarly, we can skip the last n lines of the file by using the `skip_footer` attribute and giving it a value of `n`:\n"
   ],
   "id": "c72308c6614e5c38"
  },
  {
   "metadata": {
    "ExecuteTime": {
     "end_time": "2025-10-15T14:12:56.832160Z",
     "start_time": "2025-10-15T14:12:56.829899Z"
    }
   },
   "cell_type": "code",
   "source": [
    "data = \"\\n\".join(str(i) for i in range(10))\n",
    "c = np.genfromtxt(StringIO(data),)\n",
    "print(c)\n",
    "print(\"-\" * 20)\n",
    "x = np.genfromtxt(StringIO(data),\n",
    "              skip_header=3, skip_footer=5)\n",
    "print(x)"
   ],
   "id": "2bca7e6847297e94",
   "outputs": [
    {
     "name": "stdout",
     "output_type": "stream",
     "text": [
      "[0. 1. 2. 3. 4. 5. 6. 7. 8. 9.]\n",
      "--------------------\n",
      "[3. 4.]\n"
     ]
    }
   ],
   "execution_count": 8
  },
  {
   "metadata": {},
   "cell_type": "markdown",
   "source": [
    "### The usecols argument\n",
    "In some cases, we are not interested in all the columns of the data but only a few of them. We can select which columns to import with the `usecols` argument. This argument accepts a single integer or a sequence of integers corresponding to the indices of the columns to import. Remember that by convention, the first column has an index of 0."
   ],
   "id": "7732ff52138f3171"
  },
  {
   "metadata": {
    "ExecuteTime": {
     "end_time": "2025-10-15T14:14:17.775414Z",
     "start_time": "2025-10-15T14:14:17.772364Z"
    }
   },
   "cell_type": "code",
   "source": [
    "data = \"1 2 3\\n4 5 6\"\n",
    "k = np.genfromtxt(StringIO(data), usecols=(0, -1))\n",
    "print(k)"
   ],
   "id": "4677aff1fc6fb709",
   "outputs": [
    {
     "name": "stdout",
     "output_type": "stream",
     "text": [
      "[[1. 3.]\n",
      " [4. 6.]]\n"
     ]
    }
   ],
   "execution_count": 10
  },
  {
   "metadata": {},
   "cell_type": "markdown",
   "source": "If the columns have names, we can also select which columns to import by giving their name to the usecols argument, either as a sequence of strings or a comma-separated string:",
   "id": "ae7a794635354385"
  },
  {
   "metadata": {
    "ExecuteTime": {
     "end_time": "2025-10-15T14:15:20.855705Z",
     "start_time": "2025-10-15T14:15:20.850910Z"
    }
   },
   "cell_type": "code",
   "source": [
    "data = \"1 2 3\\n4 5 6\"\n",
    "p = np.genfromtxt(StringIO(data),\n",
    "              names=\"a, b, c\", usecols=(\"a\", \"c\"))\n",
    "print(p)\n",
    "print(\"-\" * 20)\n",
    "x = np.genfromtxt(StringIO(data),\n",
    "              names=\"a, b, c\", usecols=(\"a, c\"))\n",
    "print(x)"
   ],
   "id": "ff45efbadbabbdbe",
   "outputs": [
    {
     "name": "stdout",
     "output_type": "stream",
     "text": [
      "[(1., 3.) (4., 6.)]\n",
      "--------------------\n",
      "[(1., 3.) (4., 6.)]\n"
     ]
    }
   ],
   "execution_count": 11
  },
  {
   "metadata": {},
   "cell_type": "markdown",
   "source": [
    "### Choosing the data type\n",
    "The main way to control how the sequences of strings we have read from the file are converted to other types is to set the `dtype` argument. Acceptable values for this argument are\n",
    "\n",
    "a single type, such as dtype=float. The output will be 2D with the given dtype, unless a name has been associated with each column with the use of the names argument (see below). Note that dtype=float is the default for genfromtxt.\n",
    "\n",
    "- a sequence of types, such as `dtype=(int, float, float)`.\n",
    "- a comma-separated string, such as `dtype=\"i4,f8,|U3\"`.\n",
    "- a dictionary with two keys `'names'` and `'formats'`.\n",
    "- a sequence of tuples `(name, type)`, such as `dtype=[('A', int), ('B', float)]`.\n",
    "- an existing `numpy.dtype` object.\n",
    "- the special value None. In that case, the type of the columns will be determined from the data itself (see below).\n",
    "\n",
    "### The names argument\n",
    "A natural approach when dealing with tabular data is to allocate a name to each column. A first possibility is to use an explicit structured dtype, as mentioned previously\n"
   ],
   "id": "cb42e13f37f63f73"
  },
  {
   "metadata": {
    "ExecuteTime": {
     "end_time": "2025-10-15T14:18:53.306065Z",
     "start_time": "2025-10-15T14:18:53.301579Z"
    }
   },
   "cell_type": "code",
   "source": [
    "data = StringIO(\"1 2 3\\n 4 5 6\")\n",
    "x = np.genfromtxt(data, dtype=[(_, int) for _ in \"abc\"])\n",
    "print(x)"
   ],
   "id": "f1bd02188bb767af",
   "outputs": [
    {
     "name": "stdout",
     "output_type": "stream",
     "text": [
      "[(1, 2, 3) (4, 5, 6)]\n"
     ]
    }
   ],
   "execution_count": 12
  },
  {
   "metadata": {},
   "cell_type": "markdown",
   "source": [
    "Another simpler possibility is to use the names keyword with a sequence of strings or a comma-separated string:\n",
    "\n"
   ],
   "id": "3894f7375cb47756"
  },
  {
   "metadata": {
    "ExecuteTime": {
     "end_time": "2025-10-15T14:19:51.985425Z",
     "start_time": "2025-10-15T14:19:51.983057Z"
    }
   },
   "cell_type": "code",
   "source": [
    "data = StringIO(\"1 2 3\\n 4 5 6\")\n",
    "x = np.genfromtxt(data, names=\"A, B, C\")\n",
    "print(x)"
   ],
   "id": "f25fe2cfed7bacd5",
   "outputs": [
    {
     "name": "stdout",
     "output_type": "stream",
     "text": [
      "[(1., 2., 3.) (4., 5., 6.)]\n"
     ]
    }
   ],
   "execution_count": 13
  },
  {
   "metadata": {},
   "cell_type": "markdown",
   "source": [
    "### filling_values\n",
    "We can get a finer control on the conversion of missing values with the filling_values optional argument. Like missing_values, this argument accepts different kind of values"
   ],
   "id": "97497d2837524081"
  },
  {
   "metadata": {
    "ExecuteTime": {
     "end_time": "2025-10-15T14:24:25.899028Z",
     "start_time": "2025-10-15T14:24:25.894661Z"
    }
   },
   "cell_type": "code",
   "source": [
    "data = \"N/A, 2, 3\\n4, ,???\"\n",
    "kwargs = dict(delimiter=\",\",\n",
    "              dtype=int,\n",
    "              names=\"a,b,c\",\n",
    "              missing_values={0:\"N/A\", 'b':\" \", 2:\"???\"},\n",
    "              filling_values={0:0, 'b':0, 2:-999}, autostrip=True)\n",
    "x = np.genfromtxt(StringIO(data), **kwargs)\n",
    "print(x)"
   ],
   "id": "ec84aeb618a271fb",
   "outputs": [
    {
     "name": "stdout",
     "output_type": "stream",
     "text": [
      "[(0, 2,    3) (4, 0, -999)]\n"
     ]
    }
   ],
   "execution_count": 19
  }
 ],
 "metadata": {
  "kernelspec": {
   "display_name": "Python 3",
   "language": "python",
   "name": "python3"
  },
  "language_info": {
   "codemirror_mode": {
    "name": "ipython",
    "version": 2
   },
   "file_extension": ".py",
   "mimetype": "text/x-python",
   "name": "python",
   "nbconvert_exporter": "python",
   "pygments_lexer": "ipython2",
   "version": "2.7.6"
  }
 },
 "nbformat": 4,
 "nbformat_minor": 5
}
